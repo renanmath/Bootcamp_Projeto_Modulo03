{
  "nbformat": 4,
  "nbformat_minor": 0,
  "metadata": {
    "colab": {
      "name": "Projeto_Bootcamp(Modulo03) - Melhores hiperparâmetros",
      "provenance": []
    },
    "kernelspec": {
      "name": "python3",
      "display_name": "Python 3"
    },
    "language_info": {
      "name": "python"
    }
  },
  "cells": [
    {
      "cell_type": "markdown",
      "metadata": {
        "id": "FqJI1p8JX4JX"
      },
      "source": [
        "# Importação de bibliotecas e funções"
      ]
    },
    {
      "cell_type": "code",
      "metadata": {
        "id": "MyEWXbZF1K4z"
      },
      "source": [
        "import pandas as pd\n",
        "import numpy as np\n",
        "import seaborn as sns\n",
        "import matplotlib as mpl\n",
        "from matplotlib import pyplot as plt\n",
        "import warnings\n",
        "import math\n",
        "import matplotlib.ticker as ticker\n",
        "warnings.filterwarnings('ignore') #ignora os avisos"
      ],
      "execution_count": null,
      "outputs": []
    },
    {
      "cell_type": "code",
      "metadata": {
        "id": "PEU6zrboyZ8P"
      },
      "source": [
        "from sklearn.metrics import explained_variance_score\n",
        "from sklearn.metrics import max_error\n",
        "from sklearn.metrics import mean_absolute_error\n",
        "from sklearn.metrics import mean_squared_error\n",
        "from sklearn.metrics import median_absolute_error\n",
        "from sklearn.metrics import r2_score"
      ],
      "execution_count": null,
      "outputs": []
    },
    {
      "cell_type": "code",
      "metadata": {
        "id": "fWK30OW41RUV"
      },
      "source": [
        "pd.options.display.float_format = \"{:,.2f}\".format"
      ],
      "execution_count": null,
      "outputs": []
    },
    {
      "cell_type": "code",
      "metadata": {
        "id": "osgNVi1Z2o5j"
      },
      "source": [
        "def media_movel(serie_temporal, periodos = 7):\n",
        "  serie = serie_temporal.copy()\n",
        "  n = len(serie)\n",
        "  pe = periodos\n",
        "\n",
        "  MM = []\n",
        "\n",
        "  for i in range(0,pe):\n",
        "    valor = sum(serie[0:i+1])/(i+1)\n",
        "    MM.append(valor)\n",
        "\n",
        "  for i in range(pe,n):\n",
        "    valor = sum(serie[i-pe:i])/pe\n",
        "    MM.append(valor)\n",
        "  \n",
        "  return MM"
      ],
      "execution_count": null,
      "outputs": []
    },
    {
      "cell_type": "code",
      "metadata": {
        "id": "HznEMEcVUDBP"
      },
      "source": [
        "def media_movel_exp(serie_temporal, periodos = 7):\n",
        "  serie = serie_temporal.copy()\n",
        "  n = len(serie)\n",
        "  pe = periodos\n",
        "  mu = 2/(pe+1)\n",
        "\n",
        "  MME = [serie[0]]\n",
        "\n",
        "  for i in range(1,n):\n",
        "    valor = mu*(serie[i] - MME[i-1]) + MME[i-1]\n",
        "    MME.append(valor)\n",
        "\n",
        "  return MME"
      ],
      "execution_count": null,
      "outputs": []
    },
    {
      "cell_type": "markdown",
      "metadata": {
        "id": "x4lCFKUm4BNs"
      },
      "source": [
        "# Importação e tratamento inicial dos dados"
      ]
    },
    {
      "cell_type": "code",
      "metadata": {
        "id": "lpyg5-L-4mpn"
      },
      "source": [
        "colunas = ['Municipio',\n",
        "           'Cod_IBGE',\n",
        "           'Data',\n",
        "           'Sem_epidemiologica',\n",
        "           'Pop_estimada',\n",
        "           'Pop_estimada_2019',\n",
        "           'Ultimo?',\n",
        "           'Repetido?',\n",
        "           'Ultimos_confirmados',\n",
        "           'Ultimos_confirmados_por_100k_habitantes',\n",
        "           'Ultima_data',\n",
        "           'Ultima_taxa_morte',\n",
        "           'Ultimas_mortes',\n",
        "           'Ordem_por_lugar',\n",
        "           'Tipo_lugar',\n",
        "           'Estado',\n",
        "           'Novos_casos',\n",
        "           'Novas_mortes'\n",
        "           \n",
        "           ]"
      ],
      "execution_count": null,
      "outputs": []
    },
    {
      "cell_type": "code",
      "metadata": {
        "id": "PWqtMefg1TLb"
      },
      "source": [
        "url = 'https://raw.githubusercontent.com/renanmath/Bootcamp_Projeto_Modulo03/main/dados/covid_CE'"
      ],
      "execution_count": null,
      "outputs": []
    },
    {
      "cell_type": "code",
      "metadata": {
        "id": "0l22AQDb1pY7"
      },
      "source": [
        "dados_geral = pd.read_csv(url)\n",
        "dados_geral.drop('Unnamed: 0', axis = 1, inplace=True)\n",
        "dados_geral.columns = colunas"
      ],
      "execution_count": null,
      "outputs": []
    },
    {
      "cell_type": "code",
      "metadata": {
        "colab": {
          "base_uri": "https://localhost:8080/"
        },
        "id": "4xWUozkP1t5S",
        "outputId": "433c126c-6630-414e-f693-d537f146cc0b"
      },
      "source": [
        "dados_geral"
      ],
      "execution_count": null,
      "outputs": [
        {
          "output_type": "execute_result",
          "data": {
            "text/html": [
              "<div>\n",
              "<style scoped>\n",
              "    .dataframe tbody tr th:only-of-type {\n",
              "        vertical-align: middle;\n",
              "    }\n",
              "\n",
              "    .dataframe tbody tr th {\n",
              "        vertical-align: top;\n",
              "    }\n",
              "\n",
              "    .dataframe thead th {\n",
              "        text-align: right;\n",
              "    }\n",
              "</style>\n",
              "<table border=\"1\" class=\"dataframe\">\n",
              "  <thead>\n",
              "    <tr style=\"text-align: right;\">\n",
              "      <th></th>\n",
              "      <th>Municipio</th>\n",
              "      <th>Cod_IBGE</th>\n",
              "      <th>Data</th>\n",
              "      <th>Sem_epidemiologica</th>\n",
              "      <th>Pop_estimada</th>\n",
              "      <th>Pop_estimada_2019</th>\n",
              "      <th>Ultimo?</th>\n",
              "      <th>Repetido?</th>\n",
              "      <th>Ultimos_confirmados</th>\n",
              "      <th>Ultimos_confirmados_por_100k_habitantes</th>\n",
              "      <th>Ultima_data</th>\n",
              "      <th>Ultima_taxa_morte</th>\n",
              "      <th>Ultimas_mortes</th>\n",
              "      <th>Ordem_por_lugar</th>\n",
              "      <th>Tipo_lugar</th>\n",
              "      <th>Estado</th>\n",
              "      <th>Novos_casos</th>\n",
              "      <th>Novas_mortes</th>\n",
              "    </tr>\n",
              "  </thead>\n",
              "  <tbody>\n",
              "    <tr>\n",
              "      <th>0</th>\n",
              "      <td>Aquiraz</td>\n",
              "      <td>2,301,000.00</td>\n",
              "      <td>2020-03-16</td>\n",
              "      <td>202012</td>\n",
              "      <td>80,935.00</td>\n",
              "      <td>80,271.00</td>\n",
              "      <td>False</td>\n",
              "      <td>False</td>\n",
              "      <td>1</td>\n",
              "      <td>1.24</td>\n",
              "      <td>2020-03-16</td>\n",
              "      <td>0.00</td>\n",
              "      <td>0</td>\n",
              "      <td>1</td>\n",
              "      <td>city</td>\n",
              "      <td>CE</td>\n",
              "      <td>1</td>\n",
              "      <td>0</td>\n",
              "    </tr>\n",
              "    <tr>\n",
              "      <th>1</th>\n",
              "      <td>Fortaleza</td>\n",
              "      <td>2,304,400.00</td>\n",
              "      <td>2020-03-16</td>\n",
              "      <td>202012</td>\n",
              "      <td>2,686,612.00</td>\n",
              "      <td>2,669,342.00</td>\n",
              "      <td>False</td>\n",
              "      <td>False</td>\n",
              "      <td>8</td>\n",
              "      <td>0.30</td>\n",
              "      <td>2020-03-16</td>\n",
              "      <td>0.00</td>\n",
              "      <td>0</td>\n",
              "      <td>1</td>\n",
              "      <td>city</td>\n",
              "      <td>CE</td>\n",
              "      <td>8</td>\n",
              "      <td>0</td>\n",
              "    </tr>\n",
              "    <tr>\n",
              "      <th>2</th>\n",
              "      <td>NaN</td>\n",
              "      <td>23.00</td>\n",
              "      <td>2020-03-16</td>\n",
              "      <td>202012</td>\n",
              "      <td>9,187,103.00</td>\n",
              "      <td>9,132,078.00</td>\n",
              "      <td>False</td>\n",
              "      <td>False</td>\n",
              "      <td>9</td>\n",
              "      <td>0.10</td>\n",
              "      <td>2020-03-16</td>\n",
              "      <td>0.00</td>\n",
              "      <td>0</td>\n",
              "      <td>1</td>\n",
              "      <td>state</td>\n",
              "      <td>CE</td>\n",
              "      <td>9</td>\n",
              "      <td>0</td>\n",
              "    </tr>\n",
              "    <tr>\n",
              "      <th>3</th>\n",
              "      <td>Aquiraz</td>\n",
              "      <td>2,301,000.00</td>\n",
              "      <td>2020-03-17</td>\n",
              "      <td>202012</td>\n",
              "      <td>80,935.00</td>\n",
              "      <td>80,271.00</td>\n",
              "      <td>False</td>\n",
              "      <td>False</td>\n",
              "      <td>1</td>\n",
              "      <td>1.24</td>\n",
              "      <td>2020-03-17</td>\n",
              "      <td>0.00</td>\n",
              "      <td>0</td>\n",
              "      <td>2</td>\n",
              "      <td>city</td>\n",
              "      <td>CE</td>\n",
              "      <td>0</td>\n",
              "      <td>0</td>\n",
              "    </tr>\n",
              "    <tr>\n",
              "      <th>4</th>\n",
              "      <td>Fortaleza</td>\n",
              "      <td>2,304,400.00</td>\n",
              "      <td>2020-03-17</td>\n",
              "      <td>202012</td>\n",
              "      <td>2,686,612.00</td>\n",
              "      <td>2,669,342.00</td>\n",
              "      <td>False</td>\n",
              "      <td>False</td>\n",
              "      <td>9</td>\n",
              "      <td>0.33</td>\n",
              "      <td>2020-03-17</td>\n",
              "      <td>0.00</td>\n",
              "      <td>0</td>\n",
              "      <td>2</td>\n",
              "      <td>city</td>\n",
              "      <td>CE</td>\n",
              "      <td>1</td>\n",
              "      <td>0</td>\n",
              "    </tr>\n",
              "    <tr>\n",
              "      <th>...</th>\n",
              "      <td>...</td>\n",
              "      <td>...</td>\n",
              "      <td>...</td>\n",
              "      <td>...</td>\n",
              "      <td>...</td>\n",
              "      <td>...</td>\n",
              "      <td>...</td>\n",
              "      <td>...</td>\n",
              "      <td>...</td>\n",
              "      <td>...</td>\n",
              "      <td>...</td>\n",
              "      <td>...</td>\n",
              "      <td>...</td>\n",
              "      <td>...</td>\n",
              "      <td>...</td>\n",
              "      <td>...</td>\n",
              "      <td>...</td>\n",
              "      <td>...</td>\n",
              "    </tr>\n",
              "    <tr>\n",
              "      <th>79649</th>\n",
              "      <td>Uruoca</td>\n",
              "      <td>2,313,906.00</td>\n",
              "      <td>2021-06-20</td>\n",
              "      <td>202125</td>\n",
              "      <td>13,915.00</td>\n",
              "      <td>13,840.00</td>\n",
              "      <td>False</td>\n",
              "      <td>True</td>\n",
              "      <td>1426</td>\n",
              "      <td>10,247.93</td>\n",
              "      <td>2021-06-19</td>\n",
              "      <td>0.02</td>\n",
              "      <td>31</td>\n",
              "      <td>428</td>\n",
              "      <td>city</td>\n",
              "      <td>CE</td>\n",
              "      <td>0</td>\n",
              "      <td>0</td>\n",
              "    </tr>\n",
              "    <tr>\n",
              "      <th>79650</th>\n",
              "      <td>Varjota</td>\n",
              "      <td>2,313,955.00</td>\n",
              "      <td>2021-06-20</td>\n",
              "      <td>202125</td>\n",
              "      <td>18,471.00</td>\n",
              "      <td>18,420.00</td>\n",
              "      <td>False</td>\n",
              "      <td>True</td>\n",
              "      <td>2279</td>\n",
              "      <td>12,338.26</td>\n",
              "      <td>2021-06-19</td>\n",
              "      <td>0.01</td>\n",
              "      <td>27</td>\n",
              "      <td>413</td>\n",
              "      <td>city</td>\n",
              "      <td>CE</td>\n",
              "      <td>0</td>\n",
              "      <td>0</td>\n",
              "    </tr>\n",
              "    <tr>\n",
              "      <th>79651</th>\n",
              "      <td>Viçosa do Ceará</td>\n",
              "      <td>2,314,102.00</td>\n",
              "      <td>2021-06-20</td>\n",
              "      <td>202125</td>\n",
              "      <td>61,410.00</td>\n",
              "      <td>60,889.00</td>\n",
              "      <td>False</td>\n",
              "      <td>True</td>\n",
              "      <td>4788</td>\n",
              "      <td>7,796.78</td>\n",
              "      <td>2021-06-19</td>\n",
              "      <td>0.03</td>\n",
              "      <td>140</td>\n",
              "      <td>428</td>\n",
              "      <td>city</td>\n",
              "      <td>CE</td>\n",
              "      <td>0</td>\n",
              "      <td>0</td>\n",
              "    </tr>\n",
              "    <tr>\n",
              "      <th>79652</th>\n",
              "      <td>Várzea Alegre</td>\n",
              "      <td>2,314,003.00</td>\n",
              "      <td>2021-06-20</td>\n",
              "      <td>202125</td>\n",
              "      <td>40,903.00</td>\n",
              "      <td>40,721.00</td>\n",
              "      <td>False</td>\n",
              "      <td>True</td>\n",
              "      <td>3076</td>\n",
              "      <td>7,520.23</td>\n",
              "      <td>2021-06-19</td>\n",
              "      <td>0.02</td>\n",
              "      <td>66</td>\n",
              "      <td>438</td>\n",
              "      <td>city</td>\n",
              "      <td>CE</td>\n",
              "      <td>0</td>\n",
              "      <td>0</td>\n",
              "    </tr>\n",
              "    <tr>\n",
              "      <th>79653</th>\n",
              "      <td>NaN</td>\n",
              "      <td>23.00</td>\n",
              "      <td>2021-06-20</td>\n",
              "      <td>202125</td>\n",
              "      <td>9,187,103.00</td>\n",
              "      <td>9,132,078.00</td>\n",
              "      <td>True</td>\n",
              "      <td>False</td>\n",
              "      <td>866542</td>\n",
              "      <td>9,432.16</td>\n",
              "      <td>2021-06-20</td>\n",
              "      <td>0.03</td>\n",
              "      <td>22080</td>\n",
              "      <td>462</td>\n",
              "      <td>state</td>\n",
              "      <td>CE</td>\n",
              "      <td>2013</td>\n",
              "      <td>37</td>\n",
              "    </tr>\n",
              "  </tbody>\n",
              "</table>\n",
              "<p>79654 rows × 18 columns</p>\n",
              "</div>"
            ],
            "text/plain": [
              "             Municipio     Cod_IBGE  ... Novos_casos  Novas_mortes\n",
              "0              Aquiraz 2,301,000.00  ...           1             0\n",
              "1            Fortaleza 2,304,400.00  ...           8             0\n",
              "2                  NaN        23.00  ...           9             0\n",
              "3              Aquiraz 2,301,000.00  ...           0             0\n",
              "4            Fortaleza 2,304,400.00  ...           1             0\n",
              "...                ...          ...  ...         ...           ...\n",
              "79649           Uruoca 2,313,906.00  ...           0             0\n",
              "79650          Varjota 2,313,955.00  ...           0             0\n",
              "79651  Viçosa do Ceará 2,314,102.00  ...           0             0\n",
              "79652    Várzea Alegre 2,314,003.00  ...           0             0\n",
              "79653              NaN        23.00  ...        2013            37\n",
              "\n",
              "[79654 rows x 18 columns]"
            ]
          },
          "metadata": {
            "tags": []
          },
          "execution_count": 9
        }
      ]
    },
    {
      "cell_type": "code",
      "metadata": {
        "colab": {
          "base_uri": "https://localhost:8080/"
        },
        "id": "UwVly02P3DAk",
        "outputId": "66600996-1dc6-449c-977c-8d2649fa2b5b"
      },
      "source": [
        "dados_geral.dtypes\n"
      ],
      "execution_count": null,
      "outputs": [
        {
          "output_type": "execute_result",
          "data": {
            "text/plain": [
              "Municipio                                   object\n",
              "Cod_IBGE                                   float64\n",
              "Data                                        object\n",
              "Sem_epidemiologica                           int64\n",
              "Pop_estimada                               float64\n",
              "Pop_estimada_2019                          float64\n",
              "Ultimo?                                       bool\n",
              "Repetido?                                     bool\n",
              "Ultimos_confirmados                          int64\n",
              "Ultimos_confirmados_por_100k_habitantes    float64\n",
              "Ultima_data                                 object\n",
              "Ultima_taxa_morte                          float64\n",
              "Ultimas_mortes                               int64\n",
              "Ordem_por_lugar                              int64\n",
              "Tipo_lugar                                  object\n",
              "Estado                                      object\n",
              "Novos_casos                                  int64\n",
              "Novas_mortes                                 int64\n",
              "dtype: object"
            ]
          },
          "metadata": {
            "tags": []
          },
          "execution_count": 10
        }
      ]
    },
    {
      "cell_type": "code",
      "metadata": {
        "id": "LuCI7TBy3VBT"
      },
      "source": [
        "dados_geral['Data'] = pd.to_datetime(dados_geral['Data'], format= '%Y-%m-%d')"
      ],
      "execution_count": null,
      "outputs": []
    },
    {
      "cell_type": "code",
      "metadata": {
        "id": "rhauzQgP91DX",
        "colab": {
          "base_uri": "https://localhost:8080/"
        },
        "outputId": "6c036a5e-42cb-4bd7-d1ec-9af1aec68254"
      },
      "source": [
        "dados_geral"
      ],
      "execution_count": null,
      "outputs": [
        {
          "output_type": "execute_result",
          "data": {
            "text/html": [
              "<div>\n",
              "<style scoped>\n",
              "    .dataframe tbody tr th:only-of-type {\n",
              "        vertical-align: middle;\n",
              "    }\n",
              "\n",
              "    .dataframe tbody tr th {\n",
              "        vertical-align: top;\n",
              "    }\n",
              "\n",
              "    .dataframe thead th {\n",
              "        text-align: right;\n",
              "    }\n",
              "</style>\n",
              "<table border=\"1\" class=\"dataframe\">\n",
              "  <thead>\n",
              "    <tr style=\"text-align: right;\">\n",
              "      <th></th>\n",
              "      <th>Municipio</th>\n",
              "      <th>Cod_IBGE</th>\n",
              "      <th>Data</th>\n",
              "      <th>Sem_epidemiologica</th>\n",
              "      <th>Pop_estimada</th>\n",
              "      <th>Pop_estimada_2019</th>\n",
              "      <th>Ultimo?</th>\n",
              "      <th>Repetido?</th>\n",
              "      <th>Ultimos_confirmados</th>\n",
              "      <th>Ultimos_confirmados_por_100k_habitantes</th>\n",
              "      <th>Ultima_data</th>\n",
              "      <th>Ultima_taxa_morte</th>\n",
              "      <th>Ultimas_mortes</th>\n",
              "      <th>Ordem_por_lugar</th>\n",
              "      <th>Tipo_lugar</th>\n",
              "      <th>Estado</th>\n",
              "      <th>Novos_casos</th>\n",
              "      <th>Novas_mortes</th>\n",
              "    </tr>\n",
              "  </thead>\n",
              "  <tbody>\n",
              "    <tr>\n",
              "      <th>0</th>\n",
              "      <td>Aquiraz</td>\n",
              "      <td>2,301,000.00</td>\n",
              "      <td>2020-03-16</td>\n",
              "      <td>202012</td>\n",
              "      <td>80,935.00</td>\n",
              "      <td>80,271.00</td>\n",
              "      <td>False</td>\n",
              "      <td>False</td>\n",
              "      <td>1</td>\n",
              "      <td>1.24</td>\n",
              "      <td>2020-03-16</td>\n",
              "      <td>0.00</td>\n",
              "      <td>0</td>\n",
              "      <td>1</td>\n",
              "      <td>city</td>\n",
              "      <td>CE</td>\n",
              "      <td>1</td>\n",
              "      <td>0</td>\n",
              "    </tr>\n",
              "    <tr>\n",
              "      <th>1</th>\n",
              "      <td>Fortaleza</td>\n",
              "      <td>2,304,400.00</td>\n",
              "      <td>2020-03-16</td>\n",
              "      <td>202012</td>\n",
              "      <td>2,686,612.00</td>\n",
              "      <td>2,669,342.00</td>\n",
              "      <td>False</td>\n",
              "      <td>False</td>\n",
              "      <td>8</td>\n",
              "      <td>0.30</td>\n",
              "      <td>2020-03-16</td>\n",
              "      <td>0.00</td>\n",
              "      <td>0</td>\n",
              "      <td>1</td>\n",
              "      <td>city</td>\n",
              "      <td>CE</td>\n",
              "      <td>8</td>\n",
              "      <td>0</td>\n",
              "    </tr>\n",
              "    <tr>\n",
              "      <th>2</th>\n",
              "      <td>NaN</td>\n",
              "      <td>23.00</td>\n",
              "      <td>2020-03-16</td>\n",
              "      <td>202012</td>\n",
              "      <td>9,187,103.00</td>\n",
              "      <td>9,132,078.00</td>\n",
              "      <td>False</td>\n",
              "      <td>False</td>\n",
              "      <td>9</td>\n",
              "      <td>0.10</td>\n",
              "      <td>2020-03-16</td>\n",
              "      <td>0.00</td>\n",
              "      <td>0</td>\n",
              "      <td>1</td>\n",
              "      <td>state</td>\n",
              "      <td>CE</td>\n",
              "      <td>9</td>\n",
              "      <td>0</td>\n",
              "    </tr>\n",
              "    <tr>\n",
              "      <th>3</th>\n",
              "      <td>Aquiraz</td>\n",
              "      <td>2,301,000.00</td>\n",
              "      <td>2020-03-17</td>\n",
              "      <td>202012</td>\n",
              "      <td>80,935.00</td>\n",
              "      <td>80,271.00</td>\n",
              "      <td>False</td>\n",
              "      <td>False</td>\n",
              "      <td>1</td>\n",
              "      <td>1.24</td>\n",
              "      <td>2020-03-17</td>\n",
              "      <td>0.00</td>\n",
              "      <td>0</td>\n",
              "      <td>2</td>\n",
              "      <td>city</td>\n",
              "      <td>CE</td>\n",
              "      <td>0</td>\n",
              "      <td>0</td>\n",
              "    </tr>\n",
              "    <tr>\n",
              "      <th>4</th>\n",
              "      <td>Fortaleza</td>\n",
              "      <td>2,304,400.00</td>\n",
              "      <td>2020-03-17</td>\n",
              "      <td>202012</td>\n",
              "      <td>2,686,612.00</td>\n",
              "      <td>2,669,342.00</td>\n",
              "      <td>False</td>\n",
              "      <td>False</td>\n",
              "      <td>9</td>\n",
              "      <td>0.33</td>\n",
              "      <td>2020-03-17</td>\n",
              "      <td>0.00</td>\n",
              "      <td>0</td>\n",
              "      <td>2</td>\n",
              "      <td>city</td>\n",
              "      <td>CE</td>\n",
              "      <td>1</td>\n",
              "      <td>0</td>\n",
              "    </tr>\n",
              "    <tr>\n",
              "      <th>...</th>\n",
              "      <td>...</td>\n",
              "      <td>...</td>\n",
              "      <td>...</td>\n",
              "      <td>...</td>\n",
              "      <td>...</td>\n",
              "      <td>...</td>\n",
              "      <td>...</td>\n",
              "      <td>...</td>\n",
              "      <td>...</td>\n",
              "      <td>...</td>\n",
              "      <td>...</td>\n",
              "      <td>...</td>\n",
              "      <td>...</td>\n",
              "      <td>...</td>\n",
              "      <td>...</td>\n",
              "      <td>...</td>\n",
              "      <td>...</td>\n",
              "      <td>...</td>\n",
              "    </tr>\n",
              "    <tr>\n",
              "      <th>79649</th>\n",
              "      <td>Uruoca</td>\n",
              "      <td>2,313,906.00</td>\n",
              "      <td>2021-06-20</td>\n",
              "      <td>202125</td>\n",
              "      <td>13,915.00</td>\n",
              "      <td>13,840.00</td>\n",
              "      <td>False</td>\n",
              "      <td>True</td>\n",
              "      <td>1426</td>\n",
              "      <td>10,247.93</td>\n",
              "      <td>2021-06-19</td>\n",
              "      <td>0.02</td>\n",
              "      <td>31</td>\n",
              "      <td>428</td>\n",
              "      <td>city</td>\n",
              "      <td>CE</td>\n",
              "      <td>0</td>\n",
              "      <td>0</td>\n",
              "    </tr>\n",
              "    <tr>\n",
              "      <th>79650</th>\n",
              "      <td>Varjota</td>\n",
              "      <td>2,313,955.00</td>\n",
              "      <td>2021-06-20</td>\n",
              "      <td>202125</td>\n",
              "      <td>18,471.00</td>\n",
              "      <td>18,420.00</td>\n",
              "      <td>False</td>\n",
              "      <td>True</td>\n",
              "      <td>2279</td>\n",
              "      <td>12,338.26</td>\n",
              "      <td>2021-06-19</td>\n",
              "      <td>0.01</td>\n",
              "      <td>27</td>\n",
              "      <td>413</td>\n",
              "      <td>city</td>\n",
              "      <td>CE</td>\n",
              "      <td>0</td>\n",
              "      <td>0</td>\n",
              "    </tr>\n",
              "    <tr>\n",
              "      <th>79651</th>\n",
              "      <td>Viçosa do Ceará</td>\n",
              "      <td>2,314,102.00</td>\n",
              "      <td>2021-06-20</td>\n",
              "      <td>202125</td>\n",
              "      <td>61,410.00</td>\n",
              "      <td>60,889.00</td>\n",
              "      <td>False</td>\n",
              "      <td>True</td>\n",
              "      <td>4788</td>\n",
              "      <td>7,796.78</td>\n",
              "      <td>2021-06-19</td>\n",
              "      <td>0.03</td>\n",
              "      <td>140</td>\n",
              "      <td>428</td>\n",
              "      <td>city</td>\n",
              "      <td>CE</td>\n",
              "      <td>0</td>\n",
              "      <td>0</td>\n",
              "    </tr>\n",
              "    <tr>\n",
              "      <th>79652</th>\n",
              "      <td>Várzea Alegre</td>\n",
              "      <td>2,314,003.00</td>\n",
              "      <td>2021-06-20</td>\n",
              "      <td>202125</td>\n",
              "      <td>40,903.00</td>\n",
              "      <td>40,721.00</td>\n",
              "      <td>False</td>\n",
              "      <td>True</td>\n",
              "      <td>3076</td>\n",
              "      <td>7,520.23</td>\n",
              "      <td>2021-06-19</td>\n",
              "      <td>0.02</td>\n",
              "      <td>66</td>\n",
              "      <td>438</td>\n",
              "      <td>city</td>\n",
              "      <td>CE</td>\n",
              "      <td>0</td>\n",
              "      <td>0</td>\n",
              "    </tr>\n",
              "    <tr>\n",
              "      <th>79653</th>\n",
              "      <td>NaN</td>\n",
              "      <td>23.00</td>\n",
              "      <td>2021-06-20</td>\n",
              "      <td>202125</td>\n",
              "      <td>9,187,103.00</td>\n",
              "      <td>9,132,078.00</td>\n",
              "      <td>True</td>\n",
              "      <td>False</td>\n",
              "      <td>866542</td>\n",
              "      <td>9,432.16</td>\n",
              "      <td>2021-06-20</td>\n",
              "      <td>0.03</td>\n",
              "      <td>22080</td>\n",
              "      <td>462</td>\n",
              "      <td>state</td>\n",
              "      <td>CE</td>\n",
              "      <td>2013</td>\n",
              "      <td>37</td>\n",
              "    </tr>\n",
              "  </tbody>\n",
              "</table>\n",
              "<p>79654 rows × 18 columns</p>\n",
              "</div>"
            ],
            "text/plain": [
              "             Municipio     Cod_IBGE  ... Novos_casos  Novas_mortes\n",
              "0              Aquiraz 2,301,000.00  ...           1             0\n",
              "1            Fortaleza 2,304,400.00  ...           8             0\n",
              "2                  NaN        23.00  ...           9             0\n",
              "3              Aquiraz 2,301,000.00  ...           0             0\n",
              "4            Fortaleza 2,304,400.00  ...           1             0\n",
              "...                ...          ...  ...         ...           ...\n",
              "79649           Uruoca 2,313,906.00  ...           0             0\n",
              "79650          Varjota 2,313,955.00  ...           0             0\n",
              "79651  Viçosa do Ceará 2,314,102.00  ...           0             0\n",
              "79652    Várzea Alegre 2,314,003.00  ...           0             0\n",
              "79653              NaN        23.00  ...        2013            37\n",
              "\n",
              "[79654 rows x 18 columns]"
            ]
          },
          "metadata": {
            "tags": []
          },
          "execution_count": 12
        }
      ]
    },
    {
      "cell_type": "code",
      "metadata": {
        "colab": {
          "base_uri": "https://localhost:8080/"
        },
        "id": "gS1xV8fy3y13",
        "outputId": "8bc8f275-a9b0-4d51-b676-47a9e7703313"
      },
      "source": [
        "dados_geral.dtypes"
      ],
      "execution_count": null,
      "outputs": [
        {
          "output_type": "execute_result",
          "data": {
            "text/plain": [
              "Municipio                                          object\n",
              "Cod_IBGE                                          float64\n",
              "Data                                       datetime64[ns]\n",
              "Sem_epidemiologica                                  int64\n",
              "Pop_estimada                                      float64\n",
              "Pop_estimada_2019                                 float64\n",
              "Ultimo?                                              bool\n",
              "Repetido?                                            bool\n",
              "Ultimos_confirmados                                 int64\n",
              "Ultimos_confirmados_por_100k_habitantes           float64\n",
              "Ultima_data                                        object\n",
              "Ultima_taxa_morte                                 float64\n",
              "Ultimas_mortes                                      int64\n",
              "Ordem_por_lugar                                     int64\n",
              "Tipo_lugar                                         object\n",
              "Estado                                             object\n",
              "Novos_casos                                         int64\n",
              "Novas_mortes                                        int64\n",
              "dtype: object"
            ]
          },
          "metadata": {
            "tags": []
          },
          "execution_count": 13
        }
      ]
    },
    {
      "cell_type": "code",
      "metadata": {
        "colab": {
          "base_uri": "https://localhost:8080/"
        },
        "id": "ubdR9RbY16eL",
        "outputId": "1e432161-4964-48ab-a380-821553591e76"
      },
      "source": [
        "dados_CE = dados_geral[dados_geral['Tipo_lugar'] == 'state']\n",
        "dados_CE"
      ],
      "execution_count": null,
      "outputs": [
        {
          "output_type": "execute_result",
          "data": {
            "text/html": [
              "<div>\n",
              "<style scoped>\n",
              "    .dataframe tbody tr th:only-of-type {\n",
              "        vertical-align: middle;\n",
              "    }\n",
              "\n",
              "    .dataframe tbody tr th {\n",
              "        vertical-align: top;\n",
              "    }\n",
              "\n",
              "    .dataframe thead th {\n",
              "        text-align: right;\n",
              "    }\n",
              "</style>\n",
              "<table border=\"1\" class=\"dataframe\">\n",
              "  <thead>\n",
              "    <tr style=\"text-align: right;\">\n",
              "      <th></th>\n",
              "      <th>Municipio</th>\n",
              "      <th>Cod_IBGE</th>\n",
              "      <th>Data</th>\n",
              "      <th>Sem_epidemiologica</th>\n",
              "      <th>Pop_estimada</th>\n",
              "      <th>Pop_estimada_2019</th>\n",
              "      <th>Ultimo?</th>\n",
              "      <th>Repetido?</th>\n",
              "      <th>Ultimos_confirmados</th>\n",
              "      <th>Ultimos_confirmados_por_100k_habitantes</th>\n",
              "      <th>Ultima_data</th>\n",
              "      <th>Ultima_taxa_morte</th>\n",
              "      <th>Ultimas_mortes</th>\n",
              "      <th>Ordem_por_lugar</th>\n",
              "      <th>Tipo_lugar</th>\n",
              "      <th>Estado</th>\n",
              "      <th>Novos_casos</th>\n",
              "      <th>Novas_mortes</th>\n",
              "    </tr>\n",
              "  </thead>\n",
              "  <tbody>\n",
              "    <tr>\n",
              "      <th>2</th>\n",
              "      <td>NaN</td>\n",
              "      <td>23.00</td>\n",
              "      <td>2020-03-16</td>\n",
              "      <td>202012</td>\n",
              "      <td>9,187,103.00</td>\n",
              "      <td>9,132,078.00</td>\n",
              "      <td>False</td>\n",
              "      <td>False</td>\n",
              "      <td>9</td>\n",
              "      <td>0.10</td>\n",
              "      <td>2020-03-16</td>\n",
              "      <td>0.00</td>\n",
              "      <td>0</td>\n",
              "      <td>1</td>\n",
              "      <td>state</td>\n",
              "      <td>CE</td>\n",
              "      <td>9</td>\n",
              "      <td>0</td>\n",
              "    </tr>\n",
              "    <tr>\n",
              "      <th>5</th>\n",
              "      <td>NaN</td>\n",
              "      <td>23.00</td>\n",
              "      <td>2020-03-17</td>\n",
              "      <td>202012</td>\n",
              "      <td>9,187,103.00</td>\n",
              "      <td>9,132,078.00</td>\n",
              "      <td>False</td>\n",
              "      <td>False</td>\n",
              "      <td>10</td>\n",
              "      <td>0.11</td>\n",
              "      <td>2020-03-17</td>\n",
              "      <td>0.00</td>\n",
              "      <td>0</td>\n",
              "      <td>2</td>\n",
              "      <td>state</td>\n",
              "      <td>CE</td>\n",
              "      <td>1</td>\n",
              "      <td>0</td>\n",
              "    </tr>\n",
              "    <tr>\n",
              "      <th>9</th>\n",
              "      <td>NaN</td>\n",
              "      <td>23.00</td>\n",
              "      <td>2020-03-18</td>\n",
              "      <td>202012</td>\n",
              "      <td>9,187,103.00</td>\n",
              "      <td>9,132,078.00</td>\n",
              "      <td>False</td>\n",
              "      <td>False</td>\n",
              "      <td>19</td>\n",
              "      <td>0.21</td>\n",
              "      <td>2020-03-18</td>\n",
              "      <td>0.00</td>\n",
              "      <td>0</td>\n",
              "      <td>3</td>\n",
              "      <td>state</td>\n",
              "      <td>CE</td>\n",
              "      <td>9</td>\n",
              "      <td>0</td>\n",
              "    </tr>\n",
              "    <tr>\n",
              "      <th>14</th>\n",
              "      <td>NaN</td>\n",
              "      <td>23.00</td>\n",
              "      <td>2020-03-19</td>\n",
              "      <td>202012</td>\n",
              "      <td>9,187,103.00</td>\n",
              "      <td>9,132,078.00</td>\n",
              "      <td>False</td>\n",
              "      <td>False</td>\n",
              "      <td>24</td>\n",
              "      <td>0.26</td>\n",
              "      <td>2020-03-19</td>\n",
              "      <td>0.00</td>\n",
              "      <td>0</td>\n",
              "      <td>4</td>\n",
              "      <td>state</td>\n",
              "      <td>CE</td>\n",
              "      <td>5</td>\n",
              "      <td>0</td>\n",
              "    </tr>\n",
              "    <tr>\n",
              "      <th>21</th>\n",
              "      <td>NaN</td>\n",
              "      <td>23.00</td>\n",
              "      <td>2020-03-20</td>\n",
              "      <td>202012</td>\n",
              "      <td>9,187,103.00</td>\n",
              "      <td>9,132,078.00</td>\n",
              "      <td>False</td>\n",
              "      <td>False</td>\n",
              "      <td>68</td>\n",
              "      <td>0.74</td>\n",
              "      <td>2020-03-20</td>\n",
              "      <td>0.00</td>\n",
              "      <td>0</td>\n",
              "      <td>5</td>\n",
              "      <td>state</td>\n",
              "      <td>CE</td>\n",
              "      <td>44</td>\n",
              "      <td>0</td>\n",
              "    </tr>\n",
              "    <tr>\n",
              "      <th>...</th>\n",
              "      <td>...</td>\n",
              "      <td>...</td>\n",
              "      <td>...</td>\n",
              "      <td>...</td>\n",
              "      <td>...</td>\n",
              "      <td>...</td>\n",
              "      <td>...</td>\n",
              "      <td>...</td>\n",
              "      <td>...</td>\n",
              "      <td>...</td>\n",
              "      <td>...</td>\n",
              "      <td>...</td>\n",
              "      <td>...</td>\n",
              "      <td>...</td>\n",
              "      <td>...</td>\n",
              "      <td>...</td>\n",
              "      <td>...</td>\n",
              "      <td>...</td>\n",
              "    </tr>\n",
              "    <tr>\n",
              "      <th>78909</th>\n",
              "      <td>NaN</td>\n",
              "      <td>23.00</td>\n",
              "      <td>2021-06-16</td>\n",
              "      <td>202124</td>\n",
              "      <td>9,187,103.00</td>\n",
              "      <td>9,132,078.00</td>\n",
              "      <td>False</td>\n",
              "      <td>False</td>\n",
              "      <td>856267</td>\n",
              "      <td>9,320.32</td>\n",
              "      <td>2021-06-16</td>\n",
              "      <td>0.03</td>\n",
              "      <td>21876</td>\n",
              "      <td>458</td>\n",
              "      <td>state</td>\n",
              "      <td>CE</td>\n",
              "      <td>3679</td>\n",
              "      <td>177</td>\n",
              "    </tr>\n",
              "    <tr>\n",
              "      <th>79095</th>\n",
              "      <td>NaN</td>\n",
              "      <td>23.00</td>\n",
              "      <td>2021-06-17</td>\n",
              "      <td>202124</td>\n",
              "      <td>9,187,103.00</td>\n",
              "      <td>9,132,078.00</td>\n",
              "      <td>False</td>\n",
              "      <td>False</td>\n",
              "      <td>858502</td>\n",
              "      <td>9,344.64</td>\n",
              "      <td>2021-06-17</td>\n",
              "      <td>0.03</td>\n",
              "      <td>21901</td>\n",
              "      <td>459</td>\n",
              "      <td>state</td>\n",
              "      <td>CE</td>\n",
              "      <td>2235</td>\n",
              "      <td>25</td>\n",
              "    </tr>\n",
              "    <tr>\n",
              "      <th>79281</th>\n",
              "      <td>NaN</td>\n",
              "      <td>23.00</td>\n",
              "      <td>2021-06-18</td>\n",
              "      <td>202124</td>\n",
              "      <td>9,187,103.00</td>\n",
              "      <td>9,132,078.00</td>\n",
              "      <td>False</td>\n",
              "      <td>False</td>\n",
              "      <td>861688</td>\n",
              "      <td>9,379.32</td>\n",
              "      <td>2021-06-18</td>\n",
              "      <td>0.03</td>\n",
              "      <td>21967</td>\n",
              "      <td>460</td>\n",
              "      <td>state</td>\n",
              "      <td>CE</td>\n",
              "      <td>3186</td>\n",
              "      <td>66</td>\n",
              "    </tr>\n",
              "    <tr>\n",
              "      <th>79467</th>\n",
              "      <td>NaN</td>\n",
              "      <td>23.00</td>\n",
              "      <td>2021-06-19</td>\n",
              "      <td>202124</td>\n",
              "      <td>9,187,103.00</td>\n",
              "      <td>9,132,078.00</td>\n",
              "      <td>False</td>\n",
              "      <td>False</td>\n",
              "      <td>864529</td>\n",
              "      <td>9,410.25</td>\n",
              "      <td>2021-06-19</td>\n",
              "      <td>0.03</td>\n",
              "      <td>22043</td>\n",
              "      <td>461</td>\n",
              "      <td>state</td>\n",
              "      <td>CE</td>\n",
              "      <td>2841</td>\n",
              "      <td>76</td>\n",
              "    </tr>\n",
              "    <tr>\n",
              "      <th>79653</th>\n",
              "      <td>NaN</td>\n",
              "      <td>23.00</td>\n",
              "      <td>2021-06-20</td>\n",
              "      <td>202125</td>\n",
              "      <td>9,187,103.00</td>\n",
              "      <td>9,132,078.00</td>\n",
              "      <td>True</td>\n",
              "      <td>False</td>\n",
              "      <td>866542</td>\n",
              "      <td>9,432.16</td>\n",
              "      <td>2021-06-20</td>\n",
              "      <td>0.03</td>\n",
              "      <td>22080</td>\n",
              "      <td>462</td>\n",
              "      <td>state</td>\n",
              "      <td>CE</td>\n",
              "      <td>2013</td>\n",
              "      <td>37</td>\n",
              "    </tr>\n",
              "  </tbody>\n",
              "</table>\n",
              "<p>462 rows × 18 columns</p>\n",
              "</div>"
            ],
            "text/plain": [
              "      Municipio  Cod_IBGE       Data  ...  Estado  Novos_casos  Novas_mortes\n",
              "2           NaN     23.00 2020-03-16  ...      CE            9             0\n",
              "5           NaN     23.00 2020-03-17  ...      CE            1             0\n",
              "9           NaN     23.00 2020-03-18  ...      CE            9             0\n",
              "14          NaN     23.00 2020-03-19  ...      CE            5             0\n",
              "21          NaN     23.00 2020-03-20  ...      CE           44             0\n",
              "...         ...       ...        ...  ...     ...          ...           ...\n",
              "78909       NaN     23.00 2021-06-16  ...      CE         3679           177\n",
              "79095       NaN     23.00 2021-06-17  ...      CE         2235            25\n",
              "79281       NaN     23.00 2021-06-18  ...      CE         3186            66\n",
              "79467       NaN     23.00 2021-06-19  ...      CE         2841            76\n",
              "79653       NaN     23.00 2021-06-20  ...      CE         2013            37\n",
              "\n",
              "[462 rows x 18 columns]"
            ]
          },
          "metadata": {
            "tags": []
          },
          "execution_count": 14
        }
      ]
    },
    {
      "cell_type": "markdown",
      "metadata": {
        "id": "5U1frxEBCXHR"
      },
      "source": [
        "Criando as médias móveis"
      ]
    },
    {
      "cell_type": "code",
      "metadata": {
        "id": "WMdKC44UCebW"
      },
      "source": [
        "dados_CE['MM7_casos_acumulados'] = media_movel(dados_CE['Ultimos_confirmados'].tolist(), periodos=7)\n",
        "dados_CE['MM28_casos_acumulados'] = media_movel(dados_CE['Ultimos_confirmados'].tolist(), periodos=28)\n",
        "dados_CE['MM7_obitos_acumulados'] = media_movel(dados_CE['Ultimas_mortes'].tolist(), periodos=7)\n",
        "dados_CE['MM28_obitos_acumulados'] = media_movel(dados_CE['Ultimas_mortes'].tolist(), periodos=28)\n",
        "dados_CE['MM7_casos_novos'] = media_movel(dados_CE['Novos_casos'].tolist(), periodos=7)\n",
        "dados_CE['MM28_casos_novos'] = media_movel(dados_CE['Novos_casos'].tolist(), periodos=28)\n",
        "dados_CE['MM7_obitos_novos'] = media_movel(dados_CE['Novas_mortes'].tolist(), periodos=7)\n",
        "dados_CE['MM28_obitos_novos'] = media_movel(dados_CE['Novas_mortes'].tolist(), periodos=28)\n",
        "\n",
        "#dados_CE['MM7_casos_novos'] = dados_CE['Novos_casos'].rolling(window = 7, center = False).mean()"
      ],
      "execution_count": null,
      "outputs": []
    },
    {
      "cell_type": "markdown",
      "metadata": {
        "id": "91xKKWX20TQx"
      },
      "source": [
        "Semana epidemiológica"
      ]
    },
    {
      "cell_type": "code",
      "metadata": {
        "colab": {
          "base_uri": "https://localhost:8080/"
        },
        "id": "ys9pFxhK3Mnt",
        "outputId": "2f255042-c616-472a-c3fa-90eb5fe4b677"
      },
      "source": [
        "dados_CE"
      ],
      "execution_count": null,
      "outputs": [
        {
          "output_type": "execute_result",
          "data": {
            "text/html": [
              "<div>\n",
              "<style scoped>\n",
              "    .dataframe tbody tr th:only-of-type {\n",
              "        vertical-align: middle;\n",
              "    }\n",
              "\n",
              "    .dataframe tbody tr th {\n",
              "        vertical-align: top;\n",
              "    }\n",
              "\n",
              "    .dataframe thead th {\n",
              "        text-align: right;\n",
              "    }\n",
              "</style>\n",
              "<table border=\"1\" class=\"dataframe\">\n",
              "  <thead>\n",
              "    <tr style=\"text-align: right;\">\n",
              "      <th></th>\n",
              "      <th>Municipio</th>\n",
              "      <th>Cod_IBGE</th>\n",
              "      <th>Data</th>\n",
              "      <th>Sem_epidemiologica</th>\n",
              "      <th>Pop_estimada</th>\n",
              "      <th>Pop_estimada_2019</th>\n",
              "      <th>Ultimo?</th>\n",
              "      <th>Repetido?</th>\n",
              "      <th>Ultimos_confirmados</th>\n",
              "      <th>Ultimos_confirmados_por_100k_habitantes</th>\n",
              "      <th>Ultima_data</th>\n",
              "      <th>Ultima_taxa_morte</th>\n",
              "      <th>Ultimas_mortes</th>\n",
              "      <th>Ordem_por_lugar</th>\n",
              "      <th>Tipo_lugar</th>\n",
              "      <th>Estado</th>\n",
              "      <th>Novos_casos</th>\n",
              "      <th>Novas_mortes</th>\n",
              "      <th>MM7_casos_acumulados</th>\n",
              "      <th>MM28_casos_acumulados</th>\n",
              "      <th>MM7_obitos_acumulados</th>\n",
              "      <th>MM28_obitos_acumulados</th>\n",
              "      <th>MM7_casos_novos</th>\n",
              "      <th>MM28_casos_novos</th>\n",
              "      <th>MM7_obitos_novos</th>\n",
              "      <th>MM28_obitos_novos</th>\n",
              "    </tr>\n",
              "  </thead>\n",
              "  <tbody>\n",
              "    <tr>\n",
              "      <th>2</th>\n",
              "      <td>NaN</td>\n",
              "      <td>23.00</td>\n",
              "      <td>2020-03-16</td>\n",
              "      <td>202012</td>\n",
              "      <td>9,187,103.00</td>\n",
              "      <td>9,132,078.00</td>\n",
              "      <td>False</td>\n",
              "      <td>False</td>\n",
              "      <td>9</td>\n",
              "      <td>0.10</td>\n",
              "      <td>2020-03-16</td>\n",
              "      <td>0.00</td>\n",
              "      <td>0</td>\n",
              "      <td>1</td>\n",
              "      <td>state</td>\n",
              "      <td>CE</td>\n",
              "      <td>9</td>\n",
              "      <td>0</td>\n",
              "      <td>9.00</td>\n",
              "      <td>9.00</td>\n",
              "      <td>0.00</td>\n",
              "      <td>0.00</td>\n",
              "      <td>9.00</td>\n",
              "      <td>9.00</td>\n",
              "      <td>0.00</td>\n",
              "      <td>0.00</td>\n",
              "    </tr>\n",
              "    <tr>\n",
              "      <th>5</th>\n",
              "      <td>NaN</td>\n",
              "      <td>23.00</td>\n",
              "      <td>2020-03-17</td>\n",
              "      <td>202012</td>\n",
              "      <td>9,187,103.00</td>\n",
              "      <td>9,132,078.00</td>\n",
              "      <td>False</td>\n",
              "      <td>False</td>\n",
              "      <td>10</td>\n",
              "      <td>0.11</td>\n",
              "      <td>2020-03-17</td>\n",
              "      <td>0.00</td>\n",
              "      <td>0</td>\n",
              "      <td>2</td>\n",
              "      <td>state</td>\n",
              "      <td>CE</td>\n",
              "      <td>1</td>\n",
              "      <td>0</td>\n",
              "      <td>9.50</td>\n",
              "      <td>9.50</td>\n",
              "      <td>0.00</td>\n",
              "      <td>0.00</td>\n",
              "      <td>5.00</td>\n",
              "      <td>5.00</td>\n",
              "      <td>0.00</td>\n",
              "      <td>0.00</td>\n",
              "    </tr>\n",
              "    <tr>\n",
              "      <th>9</th>\n",
              "      <td>NaN</td>\n",
              "      <td>23.00</td>\n",
              "      <td>2020-03-18</td>\n",
              "      <td>202012</td>\n",
              "      <td>9,187,103.00</td>\n",
              "      <td>9,132,078.00</td>\n",
              "      <td>False</td>\n",
              "      <td>False</td>\n",
              "      <td>19</td>\n",
              "      <td>0.21</td>\n",
              "      <td>2020-03-18</td>\n",
              "      <td>0.00</td>\n",
              "      <td>0</td>\n",
              "      <td>3</td>\n",
              "      <td>state</td>\n",
              "      <td>CE</td>\n",
              "      <td>9</td>\n",
              "      <td>0</td>\n",
              "      <td>12.67</td>\n",
              "      <td>12.67</td>\n",
              "      <td>0.00</td>\n",
              "      <td>0.00</td>\n",
              "      <td>6.33</td>\n",
              "      <td>6.33</td>\n",
              "      <td>0.00</td>\n",
              "      <td>0.00</td>\n",
              "    </tr>\n",
              "    <tr>\n",
              "      <th>14</th>\n",
              "      <td>NaN</td>\n",
              "      <td>23.00</td>\n",
              "      <td>2020-03-19</td>\n",
              "      <td>202012</td>\n",
              "      <td>9,187,103.00</td>\n",
              "      <td>9,132,078.00</td>\n",
              "      <td>False</td>\n",
              "      <td>False</td>\n",
              "      <td>24</td>\n",
              "      <td>0.26</td>\n",
              "      <td>2020-03-19</td>\n",
              "      <td>0.00</td>\n",
              "      <td>0</td>\n",
              "      <td>4</td>\n",
              "      <td>state</td>\n",
              "      <td>CE</td>\n",
              "      <td>5</td>\n",
              "      <td>0</td>\n",
              "      <td>15.50</td>\n",
              "      <td>15.50</td>\n",
              "      <td>0.00</td>\n",
              "      <td>0.00</td>\n",
              "      <td>6.00</td>\n",
              "      <td>6.00</td>\n",
              "      <td>0.00</td>\n",
              "      <td>0.00</td>\n",
              "    </tr>\n",
              "    <tr>\n",
              "      <th>21</th>\n",
              "      <td>NaN</td>\n",
              "      <td>23.00</td>\n",
              "      <td>2020-03-20</td>\n",
              "      <td>202012</td>\n",
              "      <td>9,187,103.00</td>\n",
              "      <td>9,132,078.00</td>\n",
              "      <td>False</td>\n",
              "      <td>False</td>\n",
              "      <td>68</td>\n",
              "      <td>0.74</td>\n",
              "      <td>2020-03-20</td>\n",
              "      <td>0.00</td>\n",
              "      <td>0</td>\n",
              "      <td>5</td>\n",
              "      <td>state</td>\n",
              "      <td>CE</td>\n",
              "      <td>44</td>\n",
              "      <td>0</td>\n",
              "      <td>26.00</td>\n",
              "      <td>26.00</td>\n",
              "      <td>0.00</td>\n",
              "      <td>0.00</td>\n",
              "      <td>13.60</td>\n",
              "      <td>13.60</td>\n",
              "      <td>0.00</td>\n",
              "      <td>0.00</td>\n",
              "    </tr>\n",
              "    <tr>\n",
              "      <th>...</th>\n",
              "      <td>...</td>\n",
              "      <td>...</td>\n",
              "      <td>...</td>\n",
              "      <td>...</td>\n",
              "      <td>...</td>\n",
              "      <td>...</td>\n",
              "      <td>...</td>\n",
              "      <td>...</td>\n",
              "      <td>...</td>\n",
              "      <td>...</td>\n",
              "      <td>...</td>\n",
              "      <td>...</td>\n",
              "      <td>...</td>\n",
              "      <td>...</td>\n",
              "      <td>...</td>\n",
              "      <td>...</td>\n",
              "      <td>...</td>\n",
              "      <td>...</td>\n",
              "      <td>...</td>\n",
              "      <td>...</td>\n",
              "      <td>...</td>\n",
              "      <td>...</td>\n",
              "      <td>...</td>\n",
              "      <td>...</td>\n",
              "      <td>...</td>\n",
              "      <td>...</td>\n",
              "    </tr>\n",
              "    <tr>\n",
              "      <th>78909</th>\n",
              "      <td>NaN</td>\n",
              "      <td>23.00</td>\n",
              "      <td>2021-06-16</td>\n",
              "      <td>202124</td>\n",
              "      <td>9,187,103.00</td>\n",
              "      <td>9,132,078.00</td>\n",
              "      <td>False</td>\n",
              "      <td>False</td>\n",
              "      <td>856267</td>\n",
              "      <td>9,320.32</td>\n",
              "      <td>2021-06-16</td>\n",
              "      <td>0.03</td>\n",
              "      <td>21876</td>\n",
              "      <td>458</td>\n",
              "      <td>state</td>\n",
              "      <td>CE</td>\n",
              "      <td>3679</td>\n",
              "      <td>177</td>\n",
              "      <td>841,261.71</td>\n",
              "      <td>806,123.11</td>\n",
              "      <td>21,432.00</td>\n",
              "      <td>20,623.82</td>\n",
              "      <td>3,392.86</td>\n",
              "      <td>3,665.46</td>\n",
              "      <td>50.00</td>\n",
              "      <td>84.04</td>\n",
              "    </tr>\n",
              "    <tr>\n",
              "      <th>79095</th>\n",
              "      <td>NaN</td>\n",
              "      <td>23.00</td>\n",
              "      <td>2021-06-17</td>\n",
              "      <td>202124</td>\n",
              "      <td>9,187,103.00</td>\n",
              "      <td>9,132,078.00</td>\n",
              "      <td>False</td>\n",
              "      <td>False</td>\n",
              "      <td>858502</td>\n",
              "      <td>9,344.64</td>\n",
              "      <td>2021-06-17</td>\n",
              "      <td>0.03</td>\n",
              "      <td>21901</td>\n",
              "      <td>459</td>\n",
              "      <td>state</td>\n",
              "      <td>CE</td>\n",
              "      <td>2235</td>\n",
              "      <td>25</td>\n",
              "      <td>845,180.14</td>\n",
              "      <td>809,820.00</td>\n",
              "      <td>21,507.29</td>\n",
              "      <td>20,710.86</td>\n",
              "      <td>3,918.43</td>\n",
              "      <td>3,696.89</td>\n",
              "      <td>75.29</td>\n",
              "      <td>87.04</td>\n",
              "    </tr>\n",
              "    <tr>\n",
              "      <th>79281</th>\n",
              "      <td>NaN</td>\n",
              "      <td>23.00</td>\n",
              "      <td>2021-06-18</td>\n",
              "      <td>202124</td>\n",
              "      <td>9,187,103.00</td>\n",
              "      <td>9,132,078.00</td>\n",
              "      <td>False</td>\n",
              "      <td>False</td>\n",
              "      <td>861688</td>\n",
              "      <td>9,379.32</td>\n",
              "      <td>2021-06-18</td>\n",
              "      <td>0.03</td>\n",
              "      <td>21967</td>\n",
              "      <td>460</td>\n",
              "      <td>state</td>\n",
              "      <td>CE</td>\n",
              "      <td>3186</td>\n",
              "      <td>66</td>\n",
              "      <td>848,502.71</td>\n",
              "      <td>813,380.50</td>\n",
              "      <td>21,581.86</td>\n",
              "      <td>20,790.61</td>\n",
              "      <td>3,322.57</td>\n",
              "      <td>3,560.50</td>\n",
              "      <td>74.57</td>\n",
              "      <td>79.75</td>\n",
              "    </tr>\n",
              "    <tr>\n",
              "      <th>79467</th>\n",
              "      <td>NaN</td>\n",
              "      <td>23.00</td>\n",
              "      <td>2021-06-19</td>\n",
              "      <td>202124</td>\n",
              "      <td>9,187,103.00</td>\n",
              "      <td>9,132,078.00</td>\n",
              "      <td>False</td>\n",
              "      <td>False</td>\n",
              "      <td>864529</td>\n",
              "      <td>9,410.25</td>\n",
              "      <td>2021-06-19</td>\n",
              "      <td>0.03</td>\n",
              "      <td>22043</td>\n",
              "      <td>461</td>\n",
              "      <td>state</td>\n",
              "      <td>CE</td>\n",
              "      <td>2841</td>\n",
              "      <td>76</td>\n",
              "      <td>851,997.71</td>\n",
              "      <td>816,928.18</td>\n",
              "      <td>21,665.86</td>\n",
              "      <td>20,869.21</td>\n",
              "      <td>3,495.00</td>\n",
              "      <td>3,547.68</td>\n",
              "      <td>84.00</td>\n",
              "      <td>78.61</td>\n",
              "    </tr>\n",
              "    <tr>\n",
              "      <th>79653</th>\n",
              "      <td>NaN</td>\n",
              "      <td>23.00</td>\n",
              "      <td>2021-06-20</td>\n",
              "      <td>202125</td>\n",
              "      <td>9,187,103.00</td>\n",
              "      <td>9,132,078.00</td>\n",
              "      <td>True</td>\n",
              "      <td>False</td>\n",
              "      <td>866542</td>\n",
              "      <td>9,432.16</td>\n",
              "      <td>2021-06-20</td>\n",
              "      <td>0.03</td>\n",
              "      <td>22080</td>\n",
              "      <td>462</td>\n",
              "      <td>state</td>\n",
              "      <td>CE</td>\n",
              "      <td>2013</td>\n",
              "      <td>37</td>\n",
              "      <td>855,319.00</td>\n",
              "      <td>820,372.29</td>\n",
              "      <td>21,760.71</td>\n",
              "      <td>20,948.93</td>\n",
              "      <td>3,321.29</td>\n",
              "      <td>3,444.11</td>\n",
              "      <td>94.86</td>\n",
              "      <td>79.71</td>\n",
              "    </tr>\n",
              "  </tbody>\n",
              "</table>\n",
              "<p>462 rows × 26 columns</p>\n",
              "</div>"
            ],
            "text/plain": [
              "      Municipio  Cod_IBGE  ... MM7_obitos_novos  MM28_obitos_novos\n",
              "2           NaN     23.00  ...             0.00               0.00\n",
              "5           NaN     23.00  ...             0.00               0.00\n",
              "9           NaN     23.00  ...             0.00               0.00\n",
              "14          NaN     23.00  ...             0.00               0.00\n",
              "21          NaN     23.00  ...             0.00               0.00\n",
              "...         ...       ...  ...              ...                ...\n",
              "78909       NaN     23.00  ...            50.00              84.04\n",
              "79095       NaN     23.00  ...            75.29              87.04\n",
              "79281       NaN     23.00  ...            74.57              79.75\n",
              "79467       NaN     23.00  ...            84.00              78.61\n",
              "79653       NaN     23.00  ...            94.86              79.71\n",
              "\n",
              "[462 rows x 26 columns]"
            ]
          },
          "metadata": {
            "tags": []
          },
          "execution_count": 16
        }
      ]
    },
    {
      "cell_type": "code",
      "metadata": {
        "id": "5jTlOqaz0X2Q"
      },
      "source": [
        "dados_sem_CE = dados_CE.groupby(by = 'Sem_epidemiologica').sum()[['Ultimos_confirmados', 'Ultimas_mortes', 'Novos_casos', 'Novas_mortes']]"
      ],
      "execution_count": null,
      "outputs": []
    },
    {
      "cell_type": "code",
      "metadata": {
        "id": "A8JtVznT9YjW"
      },
      "source": [
        "dados_sem_CE['Semana_epi'] = dados_sem_CE.index"
      ],
      "execution_count": null,
      "outputs": []
    },
    {
      "cell_type": "code",
      "metadata": {
        "colab": {
          "base_uri": "https://localhost:8080/"
        },
        "id": "rbJ6qgVl9kB8",
        "outputId": "5fe0657a-4f72-46ee-a091-8bff6809e69c"
      },
      "source": [
        "dados_sem_CE"
      ],
      "execution_count": null,
      "outputs": [
        {
          "output_type": "execute_result",
          "data": {
            "text/html": [
              "<div>\n",
              "<style scoped>\n",
              "    .dataframe tbody tr th:only-of-type {\n",
              "        vertical-align: middle;\n",
              "    }\n",
              "\n",
              "    .dataframe tbody tr th {\n",
              "        vertical-align: top;\n",
              "    }\n",
              "\n",
              "    .dataframe thead th {\n",
              "        text-align: right;\n",
              "    }\n",
              "</style>\n",
              "<table border=\"1\" class=\"dataframe\">\n",
              "  <thead>\n",
              "    <tr style=\"text-align: right;\">\n",
              "      <th></th>\n",
              "      <th>Ultimos_confirmados</th>\n",
              "      <th>Ultimas_mortes</th>\n",
              "      <th>Novos_casos</th>\n",
              "      <th>Novas_mortes</th>\n",
              "      <th>Semana_epi</th>\n",
              "    </tr>\n",
              "    <tr>\n",
              "      <th>Sem_epidemiologica</th>\n",
              "      <th></th>\n",
              "      <th></th>\n",
              "      <th></th>\n",
              "      <th></th>\n",
              "      <th></th>\n",
              "    </tr>\n",
              "  </thead>\n",
              "  <tbody>\n",
              "    <tr>\n",
              "      <th>202012</th>\n",
              "      <td>214</td>\n",
              "      <td>0</td>\n",
              "      <td>84</td>\n",
              "      <td>0</td>\n",
              "      <td>202012</td>\n",
              "    </tr>\n",
              "    <tr>\n",
              "      <th>202013</th>\n",
              "      <td>1526</td>\n",
              "      <td>10</td>\n",
              "      <td>238</td>\n",
              "      <td>4</td>\n",
              "      <td>202013</td>\n",
              "    </tr>\n",
              "    <tr>\n",
              "      <th>202014</th>\n",
              "      <td>3553</td>\n",
              "      <td>92</td>\n",
              "      <td>423</td>\n",
              "      <td>19</td>\n",
              "      <td>202014</td>\n",
              "    </tr>\n",
              "    <tr>\n",
              "      <th>202015</th>\n",
              "      <td>9258</td>\n",
              "      <td>365</td>\n",
              "      <td>923</td>\n",
              "      <td>51</td>\n",
              "      <td>202015</td>\n",
              "    </tr>\n",
              "    <tr>\n",
              "      <th>202016</th>\n",
              "      <td>16264</td>\n",
              "      <td>882</td>\n",
              "      <td>1394</td>\n",
              "      <td>106</td>\n",
              "      <td>202016</td>\n",
              "    </tr>\n",
              "    <tr>\n",
              "      <th>...</th>\n",
              "      <td>...</td>\n",
              "      <td>...</td>\n",
              "      <td>...</td>\n",
              "      <td>...</td>\n",
              "      <td>...</td>\n",
              "    </tr>\n",
              "    <tr>\n",
              "      <th>202121</th>\n",
              "      <td>5486009</td>\n",
              "      <td>140746</td>\n",
              "      <td>29859</td>\n",
              "      <td>629</td>\n",
              "      <td>202121</td>\n",
              "    </tr>\n",
              "    <tr>\n",
              "      <th>202122</th>\n",
              "      <td>5673519</td>\n",
              "      <td>144810</td>\n",
              "      <td>23889</td>\n",
              "      <td>463</td>\n",
              "      <td>202122</td>\n",
              "    </tr>\n",
              "    <tr>\n",
              "      <th>202123</th>\n",
              "      <td>5823663</td>\n",
              "      <td>148689</td>\n",
              "      <td>19438</td>\n",
              "      <td>476</td>\n",
              "      <td>202123</td>\n",
              "    </tr>\n",
              "    <tr>\n",
              "      <th>202124</th>\n",
              "      <td>5987233</td>\n",
              "      <td>152325</td>\n",
              "      <td>23249</td>\n",
              "      <td>664</td>\n",
              "      <td>202124</td>\n",
              "    </tr>\n",
              "    <tr>\n",
              "      <th>202125</th>\n",
              "      <td>866542</td>\n",
              "      <td>22080</td>\n",
              "      <td>2013</td>\n",
              "      <td>37</td>\n",
              "      <td>202125</td>\n",
              "    </tr>\n",
              "  </tbody>\n",
              "</table>\n",
              "<p>67 rows × 5 columns</p>\n",
              "</div>"
            ],
            "text/plain": [
              "                    Ultimos_confirmados  ...  Semana_epi\n",
              "Sem_epidemiologica                       ...            \n",
              "202012                              214  ...      202012\n",
              "202013                             1526  ...      202013\n",
              "202014                             3553  ...      202014\n",
              "202015                             9258  ...      202015\n",
              "202016                            16264  ...      202016\n",
              "...                                 ...  ...         ...\n",
              "202121                          5486009  ...      202121\n",
              "202122                          5673519  ...      202122\n",
              "202123                          5823663  ...      202123\n",
              "202124                          5987233  ...      202124\n",
              "202125                           866542  ...      202125\n",
              "\n",
              "[67 rows x 5 columns]"
            ]
          },
          "metadata": {
            "tags": []
          },
          "execution_count": 19
        }
      ]
    },
    {
      "cell_type": "code",
      "metadata": {
        "colab": {
          "base_uri": "https://localhost:8080/"
        },
        "id": "ncYsxn5bSzJL",
        "outputId": "aff9e3a1-21ec-48b8-b6f1-8b3524337b9d"
      },
      "source": [
        "import datetime\n",
        "d = \"201353\"\n",
        "r = datetime.datetime.strptime(d+'6', '%Y%W%w').date()\n",
        "print(r)"
      ],
      "execution_count": null,
      "outputs": [
        {
          "output_type": "stream",
          "text": [
            "2014-01-11\n"
          ],
          "name": "stdout"
        }
      ]
    },
    {
      "cell_type": "code",
      "metadata": {
        "colab": {
          "base_uri": "https://localhost:8080/"
        },
        "id": "votjDU83YVp9",
        "outputId": "c009c855-fd70-4959-dafe-8f515b7363d6"
      },
      "source": [
        "import datetime\n",
        "d = '2013-W26'\n",
        "r = datetime.datetime.strptime(d + '-1', '%G-W%V-%u')\n",
        "print(r)"
      ],
      "execution_count": null,
      "outputs": [
        {
          "output_type": "stream",
          "text": [
            "2013-06-24 00:00:00\n"
          ],
          "name": "stdout"
        }
      ]
    },
    {
      "cell_type": "code",
      "metadata": {
        "colab": {
          "base_uri": "https://localhost:8080/"
        },
        "id": "ux2WBV0xYrJN",
        "outputId": "66ce2349-529b-4b0d-8666-0ca1924ef600"
      },
      "source": [
        "import datetime\n",
        "week = '201114'\n",
        "date=datetime.datetime.strptime(week + '-1', \"%Y%W-%w\")\n",
        "print(date)"
      ],
      "execution_count": null,
      "outputs": [
        {
          "output_type": "stream",
          "text": [
            "2011-04-04 00:00:00\n"
          ],
          "name": "stdout"
        }
      ]
    },
    {
      "cell_type": "code",
      "metadata": {
        "id": "KWbZNv5AEGPd"
      },
      "source": [
        "dados_sem_CE['Semana_epi'] = pd.to_datetime(dados_sem_CE['Semana_epi'].astype(str)+'5', format= '%Y%W%w')"
      ],
      "execution_count": null,
      "outputs": []
    },
    {
      "cell_type": "markdown",
      "metadata": {
        "id": "6hG6eTDo3_Y7"
      },
      "source": [
        "# Criando as funções"
      ]
    },
    {
      "cell_type": "code",
      "metadata": {
        "id": "93xwN4IlkmhA"
      },
      "source": [
        "def prophet_melhor_modelo(dataset, variavel, min_treino = 0.8, min_teste = 0.8, max_teste = 0.95,\n",
        "                          l_treino = 420, n_periodos =42, v_tempo = 'Data', fer = None, stop = 100):\n",
        "  if max_teste < min_teste:\n",
        "    print('ERRO: Máximo de parada não pode ser menor que o mínimo de teste')\n",
        "    return False\n",
        "\n",
        "  dados = dataset.copy()\n",
        "  df = pd.DataFrame()\n",
        "  df['ds'] = dados[v_tempo][0:l_treino]\n",
        "  df['y'] = dados[variavel][0:l_treino]\n",
        "\n",
        "  n = dados.shape[0]\n",
        "  from fbprophet import Prophet\n",
        "  import logging\n",
        "  logging.getLogger('fbprophet').setLevel(logging.WARNING)\n",
        "\n",
        "  coluna_n_cp = []\n",
        "  coluna_cp_p_s = []\n",
        "  coluna_tipo_saz = []\n",
        "  coluna_cp_r = []\n",
        "  coluna_r2_treino = []\n",
        "  coluna_r2_teste = []\n",
        "\n",
        "  cont = 0\n",
        "  for cp_p_s in [0.1,0.3,0.5,0.8,1,1.5,2,2.5, 3.0]:\n",
        "    for n_cp in [5,10,15,20,25,30,35,40,45,50,55,60]:\n",
        "      for cp_r in [0.8,0.85, 0.9, 0.95]:\n",
        "        for tipo_saz in ['additive', 'multiplicative']:          \n",
        "          modelo = Prophet(n_changepoints= n_cp, changepoint_prior_scale= cp_p_s, changepoint_range= cp_r,\n",
        "                    seasonality_mode= tipo_saz, holidays = fer)\n",
        "          modelo.fit(df)\n",
        "\n",
        "          df_futuro = modelo.make_future_dataframe(periods = n_periodos)\n",
        "          df_previsao = modelo.predict(df_futuro)\n",
        "\n",
        "          df_teste = pd.DataFrame()\n",
        "          df_teste['ds'] = dados[v_tempo][l_treino:]\n",
        "          df_teste['y'] = dados[variavel][l_treino:]\n",
        "\n",
        "          r2_teste = r2_score(df_teste['y'],df_previsao['yhat'][l_treino:n])\n",
        "          \n",
        "          if r2_teste > min_teste:\n",
        "            r2_treino = r2_score(df['y'],df_previsao['yhat'][0:l_treino])\n",
        "            if r2_treino > min_treino:\n",
        "              coluna_n_cp.append(n_cp)\n",
        "              coluna_cp_p_s.append(cp_p_s)\n",
        "              coluna_cp_r.append(cp_r)\n",
        "              coluna_tipo_saz.append(tipo_saz)\n",
        "              coluna_r2_treino.append(r2_treino)\n",
        "              coluna_r2_teste.append(r2_teste)\n",
        "          else:\n",
        "            cont = cont+1\n",
        "            if cont == stop:\n",
        "              print('Atingiu loop máximo sem encontrar os parâmetros requeridos')\n",
        "              metricas = pd.DataFrame()\n",
        "              metricas['n_change_points'] = coluna_n_cp\n",
        "              metricas['change_points_prior_scale'] = coluna_cp_p_s\n",
        "              metricas['change_point_range'] = coluna_cp_r\n",
        "              metricas['Sazonality type'] = coluna_tipo_saz\n",
        "              metricas['r2-score (Treino)'] = coluna_r2_treino\n",
        "              metricas['r2-score (Teste)'] = coluna_r2_teste\n",
        "              return metricas.sort_values(by = 'r2-score (Teste)', ascending = False)\n",
        "          if r2_teste >= max_teste:\n",
        "            metricas = pd.DataFrame()\n",
        "            metricas['n_change_points'] = coluna_n_cp\n",
        "            metricas['change_points_prior_scale'] = coluna_cp_p_s\n",
        "            metricas['change_point_range'] = coluna_cp_r\n",
        "            metricas['Sazonality type'] = coluna_tipo_saz\n",
        "            metricas['r2-score (Treino)'] = coluna_r2_treino\n",
        "            metricas['r2-score (Teste)'] = coluna_r2_teste\n",
        "            print('Parâmetros requeridos encontrados')\n",
        "            return metricas.sort_values(by = 'r2-score (Teste)', ascending = False)\n",
        "\n",
        "  metricas = pd.DataFrame()\n",
        "  metricas['n_change_points'] = coluna_n_cp\n",
        "  metricas['change_points_prior_scale'] = coluna_cp_p_s\n",
        "  metricas['change_point_range'] = coluna_cp_r\n",
        "  metricas['Sazonality type'] = coluna_tipo_saz\n",
        "  metricas['r2-score (Treino)'] = coluna_r2_treino\n",
        "  metricas['r2-score (Teste)'] = coluna_r2_teste\n",
        "  print('Parâmetros bons encontrados')\n",
        "  return metricas.sort_values(by = 'r2-score (Teste)', ascending = False)      "
      ],
      "execution_count": null,
      "outputs": []
    },
    {
      "cell_type": "code",
      "metadata": {
        "id": "pS5xXpHZOHN2"
      },
      "source": [
        "feriados = [\n",
        "               '2020-02-25',\n",
        "               '2020-03-19',\n",
        "               '2020-03-25',\n",
        "               '2020-04-10',\n",
        "               '2020-04-12',\n",
        "               '2020-04-21',\n",
        "               '2020-05-01',\n",
        "               '2020-06-11',\n",
        "               '2020-08-15',\n",
        "               '2020-09-07',\n",
        "               '2020-10-12',\n",
        "               '2020-11-02',\n",
        "               '2020-11-15',\n",
        "               '2020-12-25',\n",
        "               '2021-01-01',\n",
        "               '2021-02-15',\n",
        "               '2021-02-16',\n",
        "               '2021-02-17',\n",
        "               '2021-03-19',\n",
        "               '2021-03-25',\n",
        "               '2021-04-02',\n",
        "               '2021-04-04',\n",
        "               '2021-04-21',\n",
        "               '2021-05-01'               \n",
        "]\n",
        "\n",
        "feriados_CE = pd.DataFrame({\n",
        "  'holiday': 'Ceara',\n",
        "  'ds': pd.to_datetime(feriados)})"
      ],
      "execution_count": null,
      "outputs": []
    },
    {
      "cell_type": "markdown",
      "metadata": {
        "id": "jfIzS_SuA1Y9"
      },
      "source": [
        "# Melhores hiperparâmetros"
      ]
    },
    {
      "cell_type": "markdown",
      "metadata": {
        "id": "l846xuMkD5ML"
      },
      "source": [
        "## Estado do Ceará"
      ]
    },
    {
      "cell_type": "markdown",
      "metadata": {
        "id": "FmbXHJOqD843"
      },
      "source": [
        "### Casos novos"
      ]
    },
    {
      "cell_type": "code",
      "metadata": {
        "id": "QyKU6I1nBcCg",
        "colab": {
          "base_uri": "https://localhost:8080/"
        },
        "outputId": "71e18e0c-5e59-487b-98a4-2025980bacf8"
      },
      "source": [
        "tabela =  prophet_melhor_modelo(dados_CE,'Novos_casos', min_teste= -0.1, max_teste= 0, fer = feriados_CE)"
      ],
      "execution_count": null,
      "outputs": [
        {
          "output_type": "stream",
          "text": [
            "WARNING:fbprophet.models:Optimization terminated abnormally. Falling back to Newton.\n",
            "WARNING:fbprophet.models:Optimization terminated abnormally. Falling back to Newton.\n",
            "WARNING:fbprophet.models:Optimization terminated abnormally. Falling back to Newton.\n",
            "WARNING:fbprophet.models:Optimization terminated abnormally. Falling back to Newton.\n"
          ],
          "name": "stderr"
        },
        {
          "output_type": "stream",
          "text": [
            "Atingiu loop máximo sem encontrar bons parâmetros\n"
          ],
          "name": "stdout"
        }
      ]
    },
    {
      "cell_type": "code",
      "metadata": {
        "id": "iLqKBVdtC52C",
        "colab": {
          "base_uri": "https://localhost:8080/",
          "height": 49
        },
        "outputId": "f52f0603-f128-41a8-a9c6-aff507074e0c"
      },
      "source": [
        "tabela"
      ],
      "execution_count": null,
      "outputs": [
        {
          "output_type": "execute_result",
          "data": {
            "text/html": [
              "<div>\n",
              "<style scoped>\n",
              "    .dataframe tbody tr th:only-of-type {\n",
              "        vertical-align: middle;\n",
              "    }\n",
              "\n",
              "    .dataframe tbody tr th {\n",
              "        vertical-align: top;\n",
              "    }\n",
              "\n",
              "    .dataframe thead th {\n",
              "        text-align: right;\n",
              "    }\n",
              "</style>\n",
              "<table border=\"1\" class=\"dataframe\">\n",
              "  <thead>\n",
              "    <tr style=\"text-align: right;\">\n",
              "      <th></th>\n",
              "      <th>n_change_points</th>\n",
              "      <th>change_points_prior_scale</th>\n",
              "      <th>change_point_range</th>\n",
              "      <th>Sazonality type</th>\n",
              "      <th>r2-score (Treino)</th>\n",
              "      <th>r2-score (Teste)</th>\n",
              "    </tr>\n",
              "  </thead>\n",
              "  <tbody>\n",
              "  </tbody>\n",
              "</table>\n",
              "</div>"
            ],
            "text/plain": [
              "Empty DataFrame\n",
              "Columns: [n_change_points, change_points_prior_scale, change_point_range, Sazonality type, r2-score (Treino), r2-score (Teste)]\n",
              "Index: []"
            ]
          },
          "metadata": {
            "tags": []
          },
          "execution_count": 33
        }
      ]
    },
    {
      "cell_type": "markdown",
      "metadata": {
        "id": "Y2O9V9PFMOJ5"
      },
      "source": [
        "### Casos acumulados"
      ]
    },
    {
      "cell_type": "code",
      "metadata": {
        "id": "gucBALxuMQSp",
        "colab": {
          "base_uri": "https://localhost:8080/"
        },
        "outputId": "642c5bbd-9153-49be-b399-af789c10071c"
      },
      "source": [
        "tabela =  prophet_melhor_modelo(dados_CE,'Ultimos_confirmados', min_teste= 0.8, fer = feriados_CE)"
      ],
      "execution_count": null,
      "outputs": [
        {
          "output_type": "stream",
          "text": [
            "Atingiu loop máximo sem encontrar bons parâmetros\n"
          ],
          "name": "stdout"
        }
      ]
    },
    {
      "cell_type": "code",
      "metadata": {
        "id": "WAjpMRvnMQSs",
        "colab": {
          "base_uri": "https://localhost:8080/",
          "height": 419
        },
        "outputId": "929df32f-d221-4515-93bd-74da1f324a1b"
      },
      "source": [
        "tabela"
      ],
      "execution_count": null,
      "outputs": [
        {
          "output_type": "execute_result",
          "data": {
            "text/html": [
              "<div>\n",
              "<style scoped>\n",
              "    .dataframe tbody tr th:only-of-type {\n",
              "        vertical-align: middle;\n",
              "    }\n",
              "\n",
              "    .dataframe tbody tr th {\n",
              "        vertical-align: top;\n",
              "    }\n",
              "\n",
              "    .dataframe thead th {\n",
              "        text-align: right;\n",
              "    }\n",
              "</style>\n",
              "<table border=\"1\" class=\"dataframe\">\n",
              "  <thead>\n",
              "    <tr style=\"text-align: right;\">\n",
              "      <th></th>\n",
              "      <th>n_change_points</th>\n",
              "      <th>change_points_prior_scale</th>\n",
              "      <th>change_point_range</th>\n",
              "      <th>Sazonality type</th>\n",
              "      <th>r2-score (Treino)</th>\n",
              "      <th>r2-score (Teste)</th>\n",
              "    </tr>\n",
              "  </thead>\n",
              "  <tbody>\n",
              "    <tr>\n",
              "      <th>10</th>\n",
              "      <td>15</td>\n",
              "      <td>0.10</td>\n",
              "      <td>0.85</td>\n",
              "      <td>additive</td>\n",
              "      <td>1.00</td>\n",
              "      <td>0.95</td>\n",
              "    </tr>\n",
              "    <tr>\n",
              "      <th>91</th>\n",
              "      <td>15</td>\n",
              "      <td>0.30</td>\n",
              "      <td>0.85</td>\n",
              "      <td>additive</td>\n",
              "      <td>1.00</td>\n",
              "      <td>0.95</td>\n",
              "    </tr>\n",
              "    <tr>\n",
              "      <th>258</th>\n",
              "      <td>15</td>\n",
              "      <td>0.80</td>\n",
              "      <td>0.85</td>\n",
              "      <td>additive</td>\n",
              "      <td>1.00</td>\n",
              "      <td>0.95</td>\n",
              "    </tr>\n",
              "    <tr>\n",
              "      <th>594</th>\n",
              "      <td>15</td>\n",
              "      <td>2.50</td>\n",
              "      <td>0.85</td>\n",
              "      <td>additive</td>\n",
              "      <td>1.00</td>\n",
              "      <td>0.95</td>\n",
              "    </tr>\n",
              "    <tr>\n",
              "      <th>426</th>\n",
              "      <td>15</td>\n",
              "      <td>1.50</td>\n",
              "      <td>0.85</td>\n",
              "      <td>additive</td>\n",
              "      <td>1.00</td>\n",
              "      <td>0.95</td>\n",
              "    </tr>\n",
              "    <tr>\n",
              "      <th>...</th>\n",
              "      <td>...</td>\n",
              "      <td>...</td>\n",
              "      <td>...</td>\n",
              "      <td>...</td>\n",
              "      <td>...</td>\n",
              "      <td>...</td>\n",
              "    </tr>\n",
              "    <tr>\n",
              "      <th>359</th>\n",
              "      <td>25</td>\n",
              "      <td>1.00</td>\n",
              "      <td>0.95</td>\n",
              "      <td>multiplicative</td>\n",
              "      <td>1.00</td>\n",
              "      <td>0.80</td>\n",
              "    </tr>\n",
              "    <tr>\n",
              "      <th>57</th>\n",
              "      <td>45</td>\n",
              "      <td>0.10</td>\n",
              "      <td>0.95</td>\n",
              "      <td>multiplicative</td>\n",
              "      <td>1.00</td>\n",
              "      <td>0.80</td>\n",
              "    </tr>\n",
              "    <tr>\n",
              "      <th>56</th>\n",
              "      <td>45</td>\n",
              "      <td>0.10</td>\n",
              "      <td>0.95</td>\n",
              "      <td>additive</td>\n",
              "      <td>1.00</td>\n",
              "      <td>0.80</td>\n",
              "    </tr>\n",
              "    <tr>\n",
              "      <th>107</th>\n",
              "      <td>25</td>\n",
              "      <td>0.30</td>\n",
              "      <td>0.95</td>\n",
              "      <td>multiplicative</td>\n",
              "      <td>1.00</td>\n",
              "      <td>0.80</td>\n",
              "    </tr>\n",
              "    <tr>\n",
              "      <th>64</th>\n",
              "      <td>50</td>\n",
              "      <td>0.10</td>\n",
              "      <td>0.95</td>\n",
              "      <td>additive</td>\n",
              "      <td>1.00</td>\n",
              "      <td>0.80</td>\n",
              "    </tr>\n",
              "  </tbody>\n",
              "</table>\n",
              "<p>604 rows × 6 columns</p>\n",
              "</div>"
            ],
            "text/plain": [
              "     n_change_points  ...  r2-score (Teste)\n",
              "10                15  ...              0.95\n",
              "91                15  ...              0.95\n",
              "258               15  ...              0.95\n",
              "594               15  ...              0.95\n",
              "426               15  ...              0.95\n",
              "..               ...  ...               ...\n",
              "359               25  ...              0.80\n",
              "57                45  ...              0.80\n",
              "56                45  ...              0.80\n",
              "107               25  ...              0.80\n",
              "64                50  ...              0.80\n",
              "\n",
              "[604 rows x 6 columns]"
            ]
          },
          "metadata": {
            "tags": []
          },
          "execution_count": 35
        }
      ]
    },
    {
      "cell_type": "markdown",
      "metadata": {
        "id": "crmm9HtOZDP7"
      },
      "source": [
        "Melhores hiperparâmetros:\n",
        "\n",
        "n_change_points = 15\n",
        "\n",
        "change_points_prior_scale = 0.10\n",
        "\n",
        "change_point_range = 0.85\n",
        "\n",
        "Sazonality type = additive\n",
        "\n",
        "\n",
        "---\n",
        "\n"
      ]
    },
    {
      "cell_type": "markdown",
      "metadata": {
        "id": "Aqy5KjqGZnrJ"
      },
      "source": [
        "### Média móvel dos casos novos (7 dias)"
      ]
    },
    {
      "cell_type": "code",
      "metadata": {
        "id": "dYav2bmcZubB",
        "colab": {
          "base_uri": "https://localhost:8080/"
        },
        "outputId": "3feb63b8-a802-447c-8852-3bf6ae7fd519"
      },
      "source": [
        "tabela =  prophet_melhor_modelo(dados_CE,'MM7_casos_novos', min_teste= -0.1, max_teste= 0, fer = feriados_CE)"
      ],
      "execution_count": null,
      "outputs": [
        {
          "output_type": "stream",
          "text": [
            "WARNING:fbprophet.models:Optimization terminated abnormally. Falling back to Newton.\n",
            "WARNING:fbprophet.models:Optimization terminated abnormally. Falling back to Newton.\n",
            "WARNING:fbprophet.models:Optimization terminated abnormally. Falling back to Newton.\n",
            "WARNING:fbprophet.models:Optimization terminated abnormally. Falling back to Newton.\n",
            "WARNING:fbprophet.models:Optimization terminated abnormally. Falling back to Newton.\n"
          ],
          "name": "stderr"
        },
        {
          "output_type": "stream",
          "text": [
            "Atingiu loop máximo sem encontrar bons parâmetros\n"
          ],
          "name": "stdout"
        }
      ]
    },
    {
      "cell_type": "code",
      "metadata": {
        "id": "CwkF7jD5ZubD",
        "colab": {
          "base_uri": "https://localhost:8080/",
          "height": 49
        },
        "outputId": "c32c1a78-6818-473c-f46c-89fed6debd87"
      },
      "source": [
        "tabela"
      ],
      "execution_count": null,
      "outputs": [
        {
          "output_type": "execute_result",
          "data": {
            "text/html": [
              "<div>\n",
              "<style scoped>\n",
              "    .dataframe tbody tr th:only-of-type {\n",
              "        vertical-align: middle;\n",
              "    }\n",
              "\n",
              "    .dataframe tbody tr th {\n",
              "        vertical-align: top;\n",
              "    }\n",
              "\n",
              "    .dataframe thead th {\n",
              "        text-align: right;\n",
              "    }\n",
              "</style>\n",
              "<table border=\"1\" class=\"dataframe\">\n",
              "  <thead>\n",
              "    <tr style=\"text-align: right;\">\n",
              "      <th></th>\n",
              "      <th>n_change_points</th>\n",
              "      <th>change_points_prior_scale</th>\n",
              "      <th>change_point_range</th>\n",
              "      <th>Sazonality type</th>\n",
              "      <th>r2-score (Treino)</th>\n",
              "      <th>r2-score (Teste)</th>\n",
              "    </tr>\n",
              "  </thead>\n",
              "  <tbody>\n",
              "  </tbody>\n",
              "</table>\n",
              "</div>"
            ],
            "text/plain": [
              "Empty DataFrame\n",
              "Columns: [n_change_points, change_points_prior_scale, change_point_range, Sazonality type, r2-score (Treino), r2-score (Teste)]\n",
              "Index: []"
            ]
          },
          "metadata": {
            "tags": []
          },
          "execution_count": 37
        }
      ]
    },
    {
      "cell_type": "markdown",
      "metadata": {
        "id": "nHtAW8bX1yDX"
      },
      "source": [
        "Sem bons parâmetros"
      ]
    },
    {
      "cell_type": "markdown",
      "metadata": {
        "id": "AXF4tlX7cfre"
      },
      "source": [
        "### Média móvel dos casos novos (28 dias)"
      ]
    },
    {
      "cell_type": "code",
      "metadata": {
        "colab": {
          "base_uri": "https://localhost:8080/"
        },
        "id": "vkJ3kX5Ecfrf",
        "outputId": "40372876-56a3-4d40-bf3e-f2d4a684e4c0"
      },
      "source": [
        "tabela =  prophet_melhor_modelo(dados_CE,'MM28_casos_novos', min_teste= -0.1, max_teste= 0, fer = feriados_CE)"
      ],
      "execution_count": null,
      "outputs": [
        {
          "output_type": "stream",
          "text": [
            "WARNING:fbprophet.models:Optimization terminated abnormally. Falling back to Newton.\n",
            "WARNING:fbprophet.models:Optimization terminated abnormally. Falling back to Newton.\n",
            "WARNING:fbprophet.models:Optimization terminated abnormally. Falling back to Newton.\n",
            "WARNING:fbprophet.models:Optimization terminated abnormally. Falling back to Newton.\n",
            "WARNING:fbprophet.models:Optimization terminated abnormally. Falling back to Newton.\n"
          ],
          "name": "stderr"
        },
        {
          "output_type": "stream",
          "text": [
            "Atingiu loop máximo sem encontrar bons parâmetros\n"
          ],
          "name": "stdout"
        }
      ]
    },
    {
      "cell_type": "code",
      "metadata": {
        "colab": {
          "base_uri": "https://localhost:8080/",
          "height": 49
        },
        "id": "ZlX6763pcfri",
        "outputId": "45379981-a0b1-44c3-f1ac-9540b62e8433"
      },
      "source": [
        "tabela"
      ],
      "execution_count": null,
      "outputs": [
        {
          "output_type": "execute_result",
          "data": {
            "text/html": [
              "<div>\n",
              "<style scoped>\n",
              "    .dataframe tbody tr th:only-of-type {\n",
              "        vertical-align: middle;\n",
              "    }\n",
              "\n",
              "    .dataframe tbody tr th {\n",
              "        vertical-align: top;\n",
              "    }\n",
              "\n",
              "    .dataframe thead th {\n",
              "        text-align: right;\n",
              "    }\n",
              "</style>\n",
              "<table border=\"1\" class=\"dataframe\">\n",
              "  <thead>\n",
              "    <tr style=\"text-align: right;\">\n",
              "      <th></th>\n",
              "      <th>n_change_points</th>\n",
              "      <th>change_points_prior_scale</th>\n",
              "      <th>change_point_range</th>\n",
              "      <th>Sazonality type</th>\n",
              "      <th>r2-score (Treino)</th>\n",
              "      <th>r2-score (Teste)</th>\n",
              "    </tr>\n",
              "  </thead>\n",
              "  <tbody>\n",
              "  </tbody>\n",
              "</table>\n",
              "</div>"
            ],
            "text/plain": [
              "Empty DataFrame\n",
              "Columns: [n_change_points, change_points_prior_scale, change_point_range, Sazonality type, r2-score (Treino), r2-score (Teste)]\n",
              "Index: []"
            ]
          },
          "metadata": {
            "tags": []
          },
          "execution_count": 39
        }
      ]
    },
    {
      "cell_type": "markdown",
      "metadata": {
        "id": "Dyz1VlyQ107h"
      },
      "source": [
        "Sem bons parâmetros"
      ]
    },
    {
      "cell_type": "markdown",
      "metadata": {
        "id": "mQqMv_wIG8oD"
      },
      "source": [
        "### Média móvel casos acumulados (7 dias)"
      ]
    },
    {
      "cell_type": "code",
      "metadata": {
        "colab": {
          "base_uri": "https://localhost:8080/"
        },
        "id": "vtzJXSV8HCdN",
        "outputId": "823e07ca-5b57-48ec-baa3-5347e6377d7f"
      },
      "source": [
        "tabela =  prophet_melhor_modelo(dados_CE,'MM7_casos_acumulados', min_teste= 0.8, max_teste= 0.95, fer = feriados_CE)"
      ],
      "execution_count": null,
      "outputs": [
        {
          "output_type": "stream",
          "text": [
            "Parâmetros ótimos encontrados\n"
          ],
          "name": "stdout"
        }
      ]
    },
    {
      "cell_type": "code",
      "metadata": {
        "colab": {
          "base_uri": "https://localhost:8080/",
          "height": 80
        },
        "id": "8QOYhaJ-HCdO",
        "outputId": "e0416250-24e3-4b19-abd5-238a86bafc5a"
      },
      "source": [
        "tabela"
      ],
      "execution_count": null,
      "outputs": [
        {
          "output_type": "execute_result",
          "data": {
            "text/html": [
              "<div>\n",
              "<style scoped>\n",
              "    .dataframe tbody tr th:only-of-type {\n",
              "        vertical-align: middle;\n",
              "    }\n",
              "\n",
              "    .dataframe tbody tr th {\n",
              "        vertical-align: top;\n",
              "    }\n",
              "\n",
              "    .dataframe thead th {\n",
              "        text-align: right;\n",
              "    }\n",
              "</style>\n",
              "<table border=\"1\" class=\"dataframe\">\n",
              "  <thead>\n",
              "    <tr style=\"text-align: right;\">\n",
              "      <th></th>\n",
              "      <th>n_change_points</th>\n",
              "      <th>change_points_prior_scale</th>\n",
              "      <th>change_point_range</th>\n",
              "      <th>Sazonality type</th>\n",
              "      <th>r2-score (Treino)</th>\n",
              "      <th>r2-score (Teste)</th>\n",
              "    </tr>\n",
              "  </thead>\n",
              "  <tbody>\n",
              "    <tr>\n",
              "      <th>0</th>\n",
              "      <td>5</td>\n",
              "      <td>0.10</td>\n",
              "      <td>0.85</td>\n",
              "      <td>additive</td>\n",
              "      <td>1.00</td>\n",
              "      <td>0.98</td>\n",
              "    </tr>\n",
              "  </tbody>\n",
              "</table>\n",
              "</div>"
            ],
            "text/plain": [
              "   n_change_points  ...  r2-score (Teste)\n",
              "0                5  ...              0.98\n",
              "\n",
              "[1 rows x 6 columns]"
            ]
          },
          "metadata": {
            "tags": []
          },
          "execution_count": 41
        }
      ]
    },
    {
      "cell_type": "markdown",
      "metadata": {
        "id": "LjCGwMIx13Zw"
      },
      "source": [
        "n_change_points = 5\n",
        "\n",
        "change_points_prior_scale = 0.10\n",
        "\n",
        "change_point_range = 0.85\n",
        "\n",
        "Sazonality type = additive\n",
        "\n",
        "r2-score (Treino) = 1.00\n",
        "\n",
        "r2-score (Teste) = 0.98"
      ]
    },
    {
      "cell_type": "markdown",
      "metadata": {
        "id": "oM-eQzjRH1_O"
      },
      "source": [
        "### Média móvel casos acumulados (28 dias)"
      ]
    },
    {
      "cell_type": "code",
      "metadata": {
        "colab": {
          "base_uri": "https://localhost:8080/"
        },
        "id": "OTKra4BSH1_R",
        "outputId": "70825dd0-a989-44fe-fbca-2cc91e13dec1"
      },
      "source": [
        "tabela =  prophet_melhor_modelo(dados_CE,'MM28_casos_acumulados', min_teste= 0.8, max_teste= 0.95, fer = feriados_CE)"
      ],
      "execution_count": null,
      "outputs": [
        {
          "output_type": "stream",
          "text": [
            "WARNING:fbprophet.models:Optimization terminated abnormally. Falling back to Newton.\n"
          ],
          "name": "stderr"
        },
        {
          "output_type": "stream",
          "text": [
            "Parâmetros ótimos encontrados\n"
          ],
          "name": "stdout"
        }
      ]
    },
    {
      "cell_type": "code",
      "metadata": {
        "colab": {
          "base_uri": "https://localhost:8080/",
          "height": 142
        },
        "id": "GhxbiZmZH1_S",
        "outputId": "c36ff5bb-242c-48a7-9ee1-e448f7536235"
      },
      "source": [
        "tabela"
      ],
      "execution_count": null,
      "outputs": [
        {
          "output_type": "execute_result",
          "data": {
            "text/html": [
              "<div>\n",
              "<style scoped>\n",
              "    .dataframe tbody tr th:only-of-type {\n",
              "        vertical-align: middle;\n",
              "    }\n",
              "\n",
              "    .dataframe tbody tr th {\n",
              "        vertical-align: top;\n",
              "    }\n",
              "\n",
              "    .dataframe thead th {\n",
              "        text-align: right;\n",
              "    }\n",
              "</style>\n",
              "<table border=\"1\" class=\"dataframe\">\n",
              "  <thead>\n",
              "    <tr style=\"text-align: right;\">\n",
              "      <th></th>\n",
              "      <th>n_change_points</th>\n",
              "      <th>change_points_prior_scale</th>\n",
              "      <th>change_point_range</th>\n",
              "      <th>Sazonality type</th>\n",
              "      <th>r2-score (Treino)</th>\n",
              "      <th>r2-score (Teste)</th>\n",
              "    </tr>\n",
              "  </thead>\n",
              "  <tbody>\n",
              "    <tr>\n",
              "      <th>2</th>\n",
              "      <td>10</td>\n",
              "      <td>0.10</td>\n",
              "      <td>0.90</td>\n",
              "      <td>additive</td>\n",
              "      <td>1.00</td>\n",
              "      <td>0.99</td>\n",
              "    </tr>\n",
              "    <tr>\n",
              "      <th>1</th>\n",
              "      <td>5</td>\n",
              "      <td>0.10</td>\n",
              "      <td>0.90</td>\n",
              "      <td>multiplicative</td>\n",
              "      <td>1.00</td>\n",
              "      <td>0.94</td>\n",
              "    </tr>\n",
              "    <tr>\n",
              "      <th>0</th>\n",
              "      <td>5</td>\n",
              "      <td>0.10</td>\n",
              "      <td>0.90</td>\n",
              "      <td>additive</td>\n",
              "      <td>1.00</td>\n",
              "      <td>0.94</td>\n",
              "    </tr>\n",
              "  </tbody>\n",
              "</table>\n",
              "</div>"
            ],
            "text/plain": [
              "   n_change_points  ...  r2-score (Teste)\n",
              "2               10  ...              0.99\n",
              "1                5  ...              0.94\n",
              "0                5  ...              0.94\n",
              "\n",
              "[3 rows x 6 columns]"
            ]
          },
          "metadata": {
            "tags": []
          },
          "execution_count": 43
        }
      ]
    },
    {
      "cell_type": "markdown",
      "metadata": {
        "id": "WcHG37nv2Mbx"
      },
      "source": [
        "n_change_points = 10\n",
        "\n",
        "change_points_prior_scale = 0.10\n",
        "\n",
        "change_point_range = 0.90\n",
        "\n",
        "Sazonality type = additive\n",
        "\n",
        "r2-score (Treino) = 1.00\n",
        "\n",
        "r2-score (Teste) = 0.99"
      ]
    },
    {
      "cell_type": "markdown",
      "metadata": {
        "id": "xQf9-F2E4M2a"
      },
      "source": [
        "### Óbitos acumulados"
      ]
    },
    {
      "cell_type": "code",
      "metadata": {
        "colab": {
          "base_uri": "https://localhost:8080/"
        },
        "id": "Y9VITKEK4M2b",
        "outputId": "d9c5d88f-c4be-4a92-c5a8-ca4d871b545a"
      },
      "source": [
        "tabela =  prophet_melhor_modelo(dados_CE,'Ultimas_mortes', min_teste= 0.8, max_teste= 0.95, fer = feriados_CE)"
      ],
      "execution_count": null,
      "outputs": [
        {
          "output_type": "stream",
          "text": [
            "WARNING:fbprophet.models:Optimization terminated abnormally. Falling back to Newton.\n",
            "WARNING:fbprophet.models:Optimization terminated abnormally. Falling back to Newton.\n",
            "WARNING:fbprophet.models:Optimization terminated abnormally. Falling back to Newton.\n",
            "WARNING:fbprophet.models:Optimization terminated abnormally. Falling back to Newton.\n",
            "WARNING:fbprophet.models:Optimization terminated abnormally. Falling back to Newton.\n",
            "WARNING:fbprophet.models:Optimization terminated abnormally. Falling back to Newton.\n"
          ],
          "name": "stderr"
        },
        {
          "output_type": "stream",
          "text": [
            "Atingiu loop máximo sem encontrar bons parâmetros\n"
          ],
          "name": "stdout"
        }
      ]
    },
    {
      "cell_type": "code",
      "metadata": {
        "id": "FkJIZjN84M2c",
        "colab": {
          "base_uri": "https://localhost:8080/",
          "height": 1000
        },
        "outputId": "47c021ec-e401-4066-c940-199d2d822627"
      },
      "source": [
        "tabela"
      ],
      "execution_count": null,
      "outputs": [
        {
          "output_type": "execute_result",
          "data": {
            "text/html": [
              "<div>\n",
              "<style scoped>\n",
              "    .dataframe tbody tr th:only-of-type {\n",
              "        vertical-align: middle;\n",
              "    }\n",
              "\n",
              "    .dataframe tbody tr th {\n",
              "        vertical-align: top;\n",
              "    }\n",
              "\n",
              "    .dataframe thead th {\n",
              "        text-align: right;\n",
              "    }\n",
              "</style>\n",
              "<table border=\"1\" class=\"dataframe\">\n",
              "  <thead>\n",
              "    <tr style=\"text-align: right;\">\n",
              "      <th></th>\n",
              "      <th>n_change_points</th>\n",
              "      <th>change_points_prior_scale</th>\n",
              "      <th>change_point_range</th>\n",
              "      <th>Sazonality type</th>\n",
              "      <th>r2-score (Treino)</th>\n",
              "      <th>r2-score (Teste)</th>\n",
              "    </tr>\n",
              "  </thead>\n",
              "  <tbody>\n",
              "    <tr>\n",
              "      <th>32</th>\n",
              "      <td>25</td>\n",
              "      <td>0.30</td>\n",
              "      <td>0.80</td>\n",
              "      <td>additive</td>\n",
              "      <td>1.00</td>\n",
              "      <td>0.94</td>\n",
              "    </tr>\n",
              "    <tr>\n",
              "      <th>33</th>\n",
              "      <td>25</td>\n",
              "      <td>0.30</td>\n",
              "      <td>0.80</td>\n",
              "      <td>multiplicative</td>\n",
              "      <td>1.00</td>\n",
              "      <td>0.94</td>\n",
              "    </tr>\n",
              "    <tr>\n",
              "      <th>30</th>\n",
              "      <td>20</td>\n",
              "      <td>0.30</td>\n",
              "      <td>0.80</td>\n",
              "      <td>additive</td>\n",
              "      <td>1.00</td>\n",
              "      <td>0.93</td>\n",
              "    </tr>\n",
              "    <tr>\n",
              "      <th>31</th>\n",
              "      <td>20</td>\n",
              "      <td>0.30</td>\n",
              "      <td>0.80</td>\n",
              "      <td>multiplicative</td>\n",
              "      <td>1.00</td>\n",
              "      <td>0.93</td>\n",
              "    </tr>\n",
              "    <tr>\n",
              "      <th>12</th>\n",
              "      <td>35</td>\n",
              "      <td>0.10</td>\n",
              "      <td>0.80</td>\n",
              "      <td>additive</td>\n",
              "      <td>1.00</td>\n",
              "      <td>0.93</td>\n",
              "    </tr>\n",
              "    <tr>\n",
              "      <th>10</th>\n",
              "      <td>30</td>\n",
              "      <td>0.10</td>\n",
              "      <td>0.80</td>\n",
              "      <td>additive</td>\n",
              "      <td>1.00</td>\n",
              "      <td>0.93</td>\n",
              "    </tr>\n",
              "    <tr>\n",
              "      <th>22</th>\n",
              "      <td>60</td>\n",
              "      <td>0.10</td>\n",
              "      <td>0.80</td>\n",
              "      <td>additive</td>\n",
              "      <td>1.00</td>\n",
              "      <td>0.93</td>\n",
              "    </tr>\n",
              "    <tr>\n",
              "      <th>15</th>\n",
              "      <td>40</td>\n",
              "      <td>0.10</td>\n",
              "      <td>0.80</td>\n",
              "      <td>multiplicative</td>\n",
              "      <td>1.00</td>\n",
              "      <td>0.93</td>\n",
              "    </tr>\n",
              "    <tr>\n",
              "      <th>13</th>\n",
              "      <td>35</td>\n",
              "      <td>0.10</td>\n",
              "      <td>0.80</td>\n",
              "      <td>multiplicative</td>\n",
              "      <td>1.00</td>\n",
              "      <td>0.93</td>\n",
              "    </tr>\n",
              "    <tr>\n",
              "      <th>9</th>\n",
              "      <td>25</td>\n",
              "      <td>0.10</td>\n",
              "      <td>0.80</td>\n",
              "      <td>multiplicative</td>\n",
              "      <td>1.00</td>\n",
              "      <td>0.93</td>\n",
              "    </tr>\n",
              "    <tr>\n",
              "      <th>11</th>\n",
              "      <td>30</td>\n",
              "      <td>0.10</td>\n",
              "      <td>0.80</td>\n",
              "      <td>multiplicative</td>\n",
              "      <td>1.00</td>\n",
              "      <td>0.93</td>\n",
              "    </tr>\n",
              "    <tr>\n",
              "      <th>20</th>\n",
              "      <td>55</td>\n",
              "      <td>0.10</td>\n",
              "      <td>0.80</td>\n",
              "      <td>additive</td>\n",
              "      <td>1.00</td>\n",
              "      <td>0.93</td>\n",
              "    </tr>\n",
              "    <tr>\n",
              "      <th>18</th>\n",
              "      <td>50</td>\n",
              "      <td>0.10</td>\n",
              "      <td>0.80</td>\n",
              "      <td>additive</td>\n",
              "      <td>1.00</td>\n",
              "      <td>0.93</td>\n",
              "    </tr>\n",
              "    <tr>\n",
              "      <th>19</th>\n",
              "      <td>50</td>\n",
              "      <td>0.10</td>\n",
              "      <td>0.80</td>\n",
              "      <td>multiplicative</td>\n",
              "      <td>1.00</td>\n",
              "      <td>0.93</td>\n",
              "    </tr>\n",
              "    <tr>\n",
              "      <th>17</th>\n",
              "      <td>45</td>\n",
              "      <td>0.10</td>\n",
              "      <td>0.80</td>\n",
              "      <td>multiplicative</td>\n",
              "      <td>1.00</td>\n",
              "      <td>0.93</td>\n",
              "    </tr>\n",
              "    <tr>\n",
              "      <th>21</th>\n",
              "      <td>55</td>\n",
              "      <td>0.10</td>\n",
              "      <td>0.80</td>\n",
              "      <td>multiplicative</td>\n",
              "      <td>1.00</td>\n",
              "      <td>0.93</td>\n",
              "    </tr>\n",
              "    <tr>\n",
              "      <th>14</th>\n",
              "      <td>40</td>\n",
              "      <td>0.10</td>\n",
              "      <td>0.80</td>\n",
              "      <td>additive</td>\n",
              "      <td>1.00</td>\n",
              "      <td>0.92</td>\n",
              "    </tr>\n",
              "    <tr>\n",
              "      <th>8</th>\n",
              "      <td>25</td>\n",
              "      <td>0.10</td>\n",
              "      <td>0.80</td>\n",
              "      <td>additive</td>\n",
              "      <td>1.00</td>\n",
              "      <td>0.92</td>\n",
              "    </tr>\n",
              "    <tr>\n",
              "      <th>28</th>\n",
              "      <td>15</td>\n",
              "      <td>0.30</td>\n",
              "      <td>0.80</td>\n",
              "      <td>additive</td>\n",
              "      <td>1.00</td>\n",
              "      <td>0.92</td>\n",
              "    </tr>\n",
              "    <tr>\n",
              "      <th>23</th>\n",
              "      <td>60</td>\n",
              "      <td>0.10</td>\n",
              "      <td>0.80</td>\n",
              "      <td>multiplicative</td>\n",
              "      <td>1.00</td>\n",
              "      <td>0.92</td>\n",
              "    </tr>\n",
              "    <tr>\n",
              "      <th>16</th>\n",
              "      <td>45</td>\n",
              "      <td>0.10</td>\n",
              "      <td>0.80</td>\n",
              "      <td>additive</td>\n",
              "      <td>1.00</td>\n",
              "      <td>0.92</td>\n",
              "    </tr>\n",
              "    <tr>\n",
              "      <th>29</th>\n",
              "      <td>15</td>\n",
              "      <td>0.30</td>\n",
              "      <td>0.80</td>\n",
              "      <td>multiplicative</td>\n",
              "      <td>1.00</td>\n",
              "      <td>0.92</td>\n",
              "    </tr>\n",
              "    <tr>\n",
              "      <th>6</th>\n",
              "      <td>20</td>\n",
              "      <td>0.10</td>\n",
              "      <td>0.80</td>\n",
              "      <td>additive</td>\n",
              "      <td>1.00</td>\n",
              "      <td>0.92</td>\n",
              "    </tr>\n",
              "    <tr>\n",
              "      <th>7</th>\n",
              "      <td>20</td>\n",
              "      <td>0.10</td>\n",
              "      <td>0.80</td>\n",
              "      <td>multiplicative</td>\n",
              "      <td>1.00</td>\n",
              "      <td>0.92</td>\n",
              "    </tr>\n",
              "    <tr>\n",
              "      <th>4</th>\n",
              "      <td>15</td>\n",
              "      <td>0.10</td>\n",
              "      <td>0.80</td>\n",
              "      <td>additive</td>\n",
              "      <td>1.00</td>\n",
              "      <td>0.91</td>\n",
              "    </tr>\n",
              "    <tr>\n",
              "      <th>5</th>\n",
              "      <td>15</td>\n",
              "      <td>0.10</td>\n",
              "      <td>0.80</td>\n",
              "      <td>multiplicative</td>\n",
              "      <td>1.00</td>\n",
              "      <td>0.91</td>\n",
              "    </tr>\n",
              "    <tr>\n",
              "      <th>26</th>\n",
              "      <td>10</td>\n",
              "      <td>0.30</td>\n",
              "      <td>0.80</td>\n",
              "      <td>additive</td>\n",
              "      <td>1.00</td>\n",
              "      <td>0.90</td>\n",
              "    </tr>\n",
              "    <tr>\n",
              "      <th>27</th>\n",
              "      <td>10</td>\n",
              "      <td>0.30</td>\n",
              "      <td>0.80</td>\n",
              "      <td>multiplicative</td>\n",
              "      <td>1.00</td>\n",
              "      <td>0.90</td>\n",
              "    </tr>\n",
              "    <tr>\n",
              "      <th>2</th>\n",
              "      <td>10</td>\n",
              "      <td>0.10</td>\n",
              "      <td>0.80</td>\n",
              "      <td>additive</td>\n",
              "      <td>1.00</td>\n",
              "      <td>0.89</td>\n",
              "    </tr>\n",
              "    <tr>\n",
              "      <th>3</th>\n",
              "      <td>10</td>\n",
              "      <td>0.10</td>\n",
              "      <td>0.80</td>\n",
              "      <td>multiplicative</td>\n",
              "      <td>1.00</td>\n",
              "      <td>0.89</td>\n",
              "    </tr>\n",
              "    <tr>\n",
              "      <th>24</th>\n",
              "      <td>5</td>\n",
              "      <td>0.30</td>\n",
              "      <td>0.80</td>\n",
              "      <td>additive</td>\n",
              "      <td>0.99</td>\n",
              "      <td>0.84</td>\n",
              "    </tr>\n",
              "    <tr>\n",
              "      <th>25</th>\n",
              "      <td>5</td>\n",
              "      <td>0.30</td>\n",
              "      <td>0.80</td>\n",
              "      <td>multiplicative</td>\n",
              "      <td>0.99</td>\n",
              "      <td>0.84</td>\n",
              "    </tr>\n",
              "    <tr>\n",
              "      <th>0</th>\n",
              "      <td>5</td>\n",
              "      <td>0.10</td>\n",
              "      <td>0.80</td>\n",
              "      <td>additive</td>\n",
              "      <td>0.99</td>\n",
              "      <td>0.82</td>\n",
              "    </tr>\n",
              "    <tr>\n",
              "      <th>1</th>\n",
              "      <td>5</td>\n",
              "      <td>0.10</td>\n",
              "      <td>0.80</td>\n",
              "      <td>multiplicative</td>\n",
              "      <td>0.99</td>\n",
              "      <td>0.82</td>\n",
              "    </tr>\n",
              "  </tbody>\n",
              "</table>\n",
              "</div>"
            ],
            "text/plain": [
              "    n_change_points  ...  r2-score (Teste)\n",
              "32               25  ...              0.94\n",
              "33               25  ...              0.94\n",
              "30               20  ...              0.93\n",
              "31               20  ...              0.93\n",
              "12               35  ...              0.93\n",
              "10               30  ...              0.93\n",
              "22               60  ...              0.93\n",
              "15               40  ...              0.93\n",
              "13               35  ...              0.93\n",
              "9                25  ...              0.93\n",
              "11               30  ...              0.93\n",
              "20               55  ...              0.93\n",
              "18               50  ...              0.93\n",
              "19               50  ...              0.93\n",
              "17               45  ...              0.93\n",
              "21               55  ...              0.93\n",
              "14               40  ...              0.92\n",
              "8                25  ...              0.92\n",
              "28               15  ...              0.92\n",
              "23               60  ...              0.92\n",
              "16               45  ...              0.92\n",
              "29               15  ...              0.92\n",
              "6                20  ...              0.92\n",
              "7                20  ...              0.92\n",
              "4                15  ...              0.91\n",
              "5                15  ...              0.91\n",
              "26               10  ...              0.90\n",
              "27               10  ...              0.90\n",
              "2                10  ...              0.89\n",
              "3                10  ...              0.89\n",
              "24                5  ...              0.84\n",
              "25                5  ...              0.84\n",
              "0                 5  ...              0.82\n",
              "1                 5  ...              0.82\n",
              "\n",
              "[34 rows x 6 columns]"
            ]
          },
          "metadata": {
            "tags": []
          },
          "execution_count": 45
        }
      ]
    },
    {
      "cell_type": "markdown",
      "metadata": {
        "id": "BwgwHX2k2eX_"
      },
      "source": [
        "n_change_points = 25\n",
        "\n",
        "change_points_prior_scale = 0.3\n",
        "\n",
        "change_point_range = 0.80\n",
        "\n",
        "Sazonality type = additive\n",
        "\n",
        "r2-score (Treino) = 1.00\n",
        "\n",
        "r2-score (Teste) = 0.94\n"
      ]
    },
    {
      "cell_type": "markdown",
      "metadata": {
        "id": "lUNtzE4nTj_u"
      },
      "source": [
        "### Obitos novos"
      ]
    },
    {
      "cell_type": "code",
      "metadata": {
        "colab": {
          "base_uri": "https://localhost:8080/"
        },
        "id": "zO-8LcobTnX5",
        "outputId": "5553b689-4b19-41ad-deb7-02e32a173837"
      },
      "source": [
        "tabela =  prophet_melhor_modelo(dados_CE,'Novas_mortes', min_teste= -0.1, max_teste= 0, fer = feriados_CE)"
      ],
      "execution_count": null,
      "outputs": [
        {
          "output_type": "stream",
          "text": [
            "WARNING:fbprophet.models:Optimization terminated abnormally. Falling back to Newton.\n",
            "WARNING:fbprophet.models:Optimization terminated abnormally. Falling back to Newton.\n",
            "WARNING:fbprophet.models:Optimization terminated abnormally. Falling back to Newton.\n",
            "WARNING:fbprophet.models:Optimization terminated abnormally. Falling back to Newton.\n",
            "WARNING:fbprophet.models:Optimization terminated abnormally. Falling back to Newton.\n",
            "WARNING:fbprophet.models:Optimization terminated abnormally. Falling back to Newton.\n",
            "WARNING:fbprophet.models:Optimization terminated abnormally. Falling back to Newton.\n"
          ],
          "name": "stderr"
        },
        {
          "output_type": "stream",
          "text": [
            "Atingiu loop máximo sem encontrar bons parâmetros\n"
          ],
          "name": "stdout"
        }
      ]
    },
    {
      "cell_type": "code",
      "metadata": {
        "colab": {
          "base_uri": "https://localhost:8080/",
          "height": 49
        },
        "id": "yeBR5JZUTnX6",
        "outputId": "5489771c-3df7-4ec3-969e-bceb85b404aa"
      },
      "source": [
        "tabela"
      ],
      "execution_count": null,
      "outputs": [
        {
          "output_type": "execute_result",
          "data": {
            "text/html": [
              "<div>\n",
              "<style scoped>\n",
              "    .dataframe tbody tr th:only-of-type {\n",
              "        vertical-align: middle;\n",
              "    }\n",
              "\n",
              "    .dataframe tbody tr th {\n",
              "        vertical-align: top;\n",
              "    }\n",
              "\n",
              "    .dataframe thead th {\n",
              "        text-align: right;\n",
              "    }\n",
              "</style>\n",
              "<table border=\"1\" class=\"dataframe\">\n",
              "  <thead>\n",
              "    <tr style=\"text-align: right;\">\n",
              "      <th></th>\n",
              "      <th>n_change_points</th>\n",
              "      <th>change_points_prior_scale</th>\n",
              "      <th>change_point_range</th>\n",
              "      <th>Sazonality type</th>\n",
              "      <th>r2-score (Treino)</th>\n",
              "      <th>r2-score (Teste)</th>\n",
              "    </tr>\n",
              "  </thead>\n",
              "  <tbody>\n",
              "  </tbody>\n",
              "</table>\n",
              "</div>"
            ],
            "text/plain": [
              "Empty DataFrame\n",
              "Columns: [n_change_points, change_points_prior_scale, change_point_range, Sazonality type, r2-score (Treino), r2-score (Teste)]\n",
              "Index: []"
            ]
          },
          "metadata": {
            "tags": []
          },
          "execution_count": 47
        }
      ]
    },
    {
      "cell_type": "markdown",
      "metadata": {
        "id": "0JylrJmZ2vrW"
      },
      "source": [
        "Sem bons parâmetros"
      ]
    },
    {
      "cell_type": "markdown",
      "metadata": {
        "id": "Sj6sbdL2Tvum"
      },
      "source": [
        "### Média móvel óbitos novos (7 dias)"
      ]
    },
    {
      "cell_type": "code",
      "metadata": {
        "colab": {
          "base_uri": "https://localhost:8080/"
        },
        "id": "nYZL-o9MTzgI",
        "outputId": "aa3c95c3-0016-431c-eb0a-5c27cbc5d79d"
      },
      "source": [
        "tabela =  prophet_melhor_modelo(dados_CE,'MM7_obitos_novos', min_teste= 0.8, max_teste= 0.85, fer = feriados_CE)"
      ],
      "execution_count": null,
      "outputs": [
        {
          "output_type": "stream",
          "text": [
            "WARNING:fbprophet.models:Optimization terminated abnormally. Falling back to Newton.\n",
            "WARNING:fbprophet.models:Optimization terminated abnormally. Falling back to Newton.\n",
            "WARNING:fbprophet.models:Optimization terminated abnormally. Falling back to Newton.\n",
            "WARNING:fbprophet.models:Optimization terminated abnormally. Falling back to Newton.\n",
            "WARNING:fbprophet.models:Optimization terminated abnormally. Falling back to Newton.\n",
            "WARNING:fbprophet.models:Optimization terminated abnormally. Falling back to Newton.\n",
            "WARNING:fbprophet.models:Optimization terminated abnormally. Falling back to Newton.\n",
            "WARNING:fbprophet.models:Optimization terminated abnormally. Falling back to Newton.\n",
            "WARNING:fbprophet.models:Optimization terminated abnormally. Falling back to Newton.\n",
            "WARNING:fbprophet.models:Optimization terminated abnormally. Falling back to Newton.\n",
            "WARNING:fbprophet.models:Optimization terminated abnormally. Falling back to Newton.\n"
          ],
          "name": "stderr"
        },
        {
          "output_type": "stream",
          "text": [
            "Atingiu loop máximo sem encontrar bons parâmetros\n"
          ],
          "name": "stdout"
        }
      ]
    },
    {
      "cell_type": "code",
      "metadata": {
        "colab": {
          "base_uri": "https://localhost:8080/",
          "height": 49
        },
        "id": "4RUyFBLSTzgJ",
        "outputId": "6e30d134-3494-41d0-d20e-564d0707fe21"
      },
      "source": [
        "tabela"
      ],
      "execution_count": null,
      "outputs": [
        {
          "output_type": "execute_result",
          "data": {
            "text/html": [
              "<div>\n",
              "<style scoped>\n",
              "    .dataframe tbody tr th:only-of-type {\n",
              "        vertical-align: middle;\n",
              "    }\n",
              "\n",
              "    .dataframe tbody tr th {\n",
              "        vertical-align: top;\n",
              "    }\n",
              "\n",
              "    .dataframe thead th {\n",
              "        text-align: right;\n",
              "    }\n",
              "</style>\n",
              "<table border=\"1\" class=\"dataframe\">\n",
              "  <thead>\n",
              "    <tr style=\"text-align: right;\">\n",
              "      <th></th>\n",
              "      <th>n_change_points</th>\n",
              "      <th>change_points_prior_scale</th>\n",
              "      <th>change_point_range</th>\n",
              "      <th>Sazonality type</th>\n",
              "      <th>r2-score (Treino)</th>\n",
              "      <th>r2-score (Teste)</th>\n",
              "    </tr>\n",
              "  </thead>\n",
              "  <tbody>\n",
              "  </tbody>\n",
              "</table>\n",
              "</div>"
            ],
            "text/plain": [
              "Empty DataFrame\n",
              "Columns: [n_change_points, change_points_prior_scale, change_point_range, Sazonality type, r2-score (Treino), r2-score (Teste)]\n",
              "Index: []"
            ]
          },
          "metadata": {
            "tags": []
          },
          "execution_count": 49
        }
      ]
    },
    {
      "cell_type": "markdown",
      "metadata": {
        "id": "UrSYqtrp2x0q"
      },
      "source": [
        "Sem bons parâmetros"
      ]
    },
    {
      "cell_type": "markdown",
      "metadata": {
        "id": "kp9FpMFV24Xh"
      },
      "source": [
        "### Média móvel óbitos novos (28 dias)"
      ]
    },
    {
      "cell_type": "code",
      "metadata": {
        "colab": {
          "base_uri": "https://localhost:8080/"
        },
        "id": "h9BGHlj-24Xi",
        "outputId": "35f625f8-99e8-43c1-8d83-341434c42ef9"
      },
      "source": [
        "tabela =  prophet_melhor_modelo(dados_CE,'MM28_obitos_novos', min_teste= 0.8, max_teste= 0.85, fer = feriados_CE)"
      ],
      "execution_count": null,
      "outputs": [
        {
          "output_type": "stream",
          "text": [
            "WARNING:fbprophet.models:Optimization terminated abnormally. Falling back to Newton.\n",
            "WARNING:fbprophet.models:Optimization terminated abnormally. Falling back to Newton.\n",
            "WARNING:fbprophet.models:Optimization terminated abnormally. Falling back to Newton.\n",
            "WARNING:fbprophet.models:Optimization terminated abnormally. Falling back to Newton.\n",
            "WARNING:fbprophet.models:Optimization terminated abnormally. Falling back to Newton.\n",
            "WARNING:fbprophet.models:Optimization terminated abnormally. Falling back to Newton.\n",
            "WARNING:fbprophet.models:Optimization terminated abnormally. Falling back to Newton.\n",
            "WARNING:fbprophet.models:Optimization terminated abnormally. Falling back to Newton.\n",
            "WARNING:fbprophet.models:Optimization terminated abnormally. Falling back to Newton.\n",
            "WARNING:fbprophet.models:Optimization terminated abnormally. Falling back to Newton.\n",
            "WARNING:fbprophet.models:Optimization terminated abnormally. Falling back to Newton.\n",
            "WARNING:fbprophet.models:Optimization terminated abnormally. Falling back to Newton.\n"
          ],
          "name": "stderr"
        },
        {
          "output_type": "stream",
          "text": [
            "Atingiu loop máximo sem encontrar bons parâmetros\n"
          ],
          "name": "stdout"
        }
      ]
    },
    {
      "cell_type": "code",
      "metadata": {
        "colab": {
          "base_uri": "https://localhost:8080/",
          "height": 49
        },
        "id": "bR7AVx_g24Xk",
        "outputId": "3a8f4062-87a4-4f12-f770-06d30db1ea23"
      },
      "source": [
        "tabela"
      ],
      "execution_count": null,
      "outputs": [
        {
          "output_type": "execute_result",
          "data": {
            "text/html": [
              "<div>\n",
              "<style scoped>\n",
              "    .dataframe tbody tr th:only-of-type {\n",
              "        vertical-align: middle;\n",
              "    }\n",
              "\n",
              "    .dataframe tbody tr th {\n",
              "        vertical-align: top;\n",
              "    }\n",
              "\n",
              "    .dataframe thead th {\n",
              "        text-align: right;\n",
              "    }\n",
              "</style>\n",
              "<table border=\"1\" class=\"dataframe\">\n",
              "  <thead>\n",
              "    <tr style=\"text-align: right;\">\n",
              "      <th></th>\n",
              "      <th>n_change_points</th>\n",
              "      <th>change_points_prior_scale</th>\n",
              "      <th>change_point_range</th>\n",
              "      <th>Sazonality type</th>\n",
              "      <th>r2-score (Treino)</th>\n",
              "      <th>r2-score (Teste)</th>\n",
              "    </tr>\n",
              "  </thead>\n",
              "  <tbody>\n",
              "  </tbody>\n",
              "</table>\n",
              "</div>"
            ],
            "text/plain": [
              "Empty DataFrame\n",
              "Columns: [n_change_points, change_points_prior_scale, change_point_range, Sazonality type, r2-score (Treino), r2-score (Teste)]\n",
              "Index: []"
            ]
          },
          "metadata": {
            "tags": []
          },
          "execution_count": 51
        }
      ]
    },
    {
      "cell_type": "markdown",
      "metadata": {
        "id": "6cAImEsS24Xk"
      },
      "source": [
        "Sem bons parâmetros"
      ]
    },
    {
      "cell_type": "markdown",
      "metadata": {
        "id": "Tu5r-yXO3CjC"
      },
      "source": [
        "### Média móvel óbitos acumulados (7 dias)"
      ]
    },
    {
      "cell_type": "code",
      "metadata": {
        "colab": {
          "base_uri": "https://localhost:8080/"
        },
        "id": "WtBEPici3CjD",
        "outputId": "39a7ae3e-b7b0-436c-c993-4fc7f26a993f"
      },
      "source": [
        "tabela =  prophet_melhor_modelo(dados_CE,'MM7_obitos_acumulados', min_teste= 0.8, max_teste= 0.9, fer = feriados_CE)"
      ],
      "execution_count": null,
      "outputs": [
        {
          "output_type": "stream",
          "text": [
            "WARNING:fbprophet.models:Optimization terminated abnormally. Falling back to Newton.\n"
          ],
          "name": "stderr"
        },
        {
          "output_type": "stream",
          "text": [
            "Atingiu loop máximo sem encontrar bons parâmetros\n"
          ],
          "name": "stdout"
        }
      ]
    },
    {
      "cell_type": "code",
      "metadata": {
        "colab": {
          "base_uri": "https://localhost:8080/",
          "height": 1000
        },
        "id": "7RwlJd0B3CjE",
        "outputId": "141e092c-6512-42f8-9ebe-2c1eb836e63e"
      },
      "source": [
        "tabela"
      ],
      "execution_count": null,
      "outputs": [
        {
          "output_type": "execute_result",
          "data": {
            "text/html": [
              "<div>\n",
              "<style scoped>\n",
              "    .dataframe tbody tr th:only-of-type {\n",
              "        vertical-align: middle;\n",
              "    }\n",
              "\n",
              "    .dataframe tbody tr th {\n",
              "        vertical-align: top;\n",
              "    }\n",
              "\n",
              "    .dataframe thead th {\n",
              "        text-align: right;\n",
              "    }\n",
              "</style>\n",
              "<table border=\"1\" class=\"dataframe\">\n",
              "  <thead>\n",
              "    <tr style=\"text-align: right;\">\n",
              "      <th></th>\n",
              "      <th>n_change_points</th>\n",
              "      <th>change_points_prior_scale</th>\n",
              "      <th>change_point_range</th>\n",
              "      <th>Sazonality type</th>\n",
              "      <th>r2-score (Treino)</th>\n",
              "      <th>r2-score (Teste)</th>\n",
              "    </tr>\n",
              "  </thead>\n",
              "  <tbody>\n",
              "    <tr>\n",
              "      <th>2</th>\n",
              "      <td>10</td>\n",
              "      <td>0.10</td>\n",
              "      <td>0.85</td>\n",
              "      <td>additive</td>\n",
              "      <td>1.00</td>\n",
              "      <td>0.86</td>\n",
              "    </tr>\n",
              "    <tr>\n",
              "      <th>26</th>\n",
              "      <td>10</td>\n",
              "      <td>0.30</td>\n",
              "      <td>0.85</td>\n",
              "      <td>additive</td>\n",
              "      <td>1.00</td>\n",
              "      <td>0.85</td>\n",
              "    </tr>\n",
              "    <tr>\n",
              "      <th>3</th>\n",
              "      <td>10</td>\n",
              "      <td>0.10</td>\n",
              "      <td>0.85</td>\n",
              "      <td>multiplicative</td>\n",
              "      <td>1.00</td>\n",
              "      <td>0.85</td>\n",
              "    </tr>\n",
              "    <tr>\n",
              "      <th>27</th>\n",
              "      <td>10</td>\n",
              "      <td>0.30</td>\n",
              "      <td>0.85</td>\n",
              "      <td>multiplicative</td>\n",
              "      <td>1.00</td>\n",
              "      <td>0.85</td>\n",
              "    </tr>\n",
              "    <tr>\n",
              "      <th>4</th>\n",
              "      <td>15</td>\n",
              "      <td>0.10</td>\n",
              "      <td>0.85</td>\n",
              "      <td>additive</td>\n",
              "      <td>1.00</td>\n",
              "      <td>0.85</td>\n",
              "    </tr>\n",
              "    <tr>\n",
              "      <th>6</th>\n",
              "      <td>20</td>\n",
              "      <td>0.10</td>\n",
              "      <td>0.85</td>\n",
              "      <td>additive</td>\n",
              "      <td>1.00</td>\n",
              "      <td>0.85</td>\n",
              "    </tr>\n",
              "    <tr>\n",
              "      <th>28</th>\n",
              "      <td>15</td>\n",
              "      <td>0.30</td>\n",
              "      <td>0.85</td>\n",
              "      <td>additive</td>\n",
              "      <td>1.00</td>\n",
              "      <td>0.85</td>\n",
              "    </tr>\n",
              "    <tr>\n",
              "      <th>5</th>\n",
              "      <td>15</td>\n",
              "      <td>0.10</td>\n",
              "      <td>0.85</td>\n",
              "      <td>multiplicative</td>\n",
              "      <td>1.00</td>\n",
              "      <td>0.85</td>\n",
              "    </tr>\n",
              "    <tr>\n",
              "      <th>7</th>\n",
              "      <td>20</td>\n",
              "      <td>0.10</td>\n",
              "      <td>0.85</td>\n",
              "      <td>multiplicative</td>\n",
              "      <td>1.00</td>\n",
              "      <td>0.85</td>\n",
              "    </tr>\n",
              "    <tr>\n",
              "      <th>29</th>\n",
              "      <td>15</td>\n",
              "      <td>0.30</td>\n",
              "      <td>0.85</td>\n",
              "      <td>multiplicative</td>\n",
              "      <td>1.00</td>\n",
              "      <td>0.85</td>\n",
              "    </tr>\n",
              "    <tr>\n",
              "      <th>8</th>\n",
              "      <td>25</td>\n",
              "      <td>0.10</td>\n",
              "      <td>0.85</td>\n",
              "      <td>additive</td>\n",
              "      <td>1.00</td>\n",
              "      <td>0.85</td>\n",
              "    </tr>\n",
              "    <tr>\n",
              "      <th>30</th>\n",
              "      <td>20</td>\n",
              "      <td>0.30</td>\n",
              "      <td>0.85</td>\n",
              "      <td>additive</td>\n",
              "      <td>1.00</td>\n",
              "      <td>0.84</td>\n",
              "    </tr>\n",
              "    <tr>\n",
              "      <th>10</th>\n",
              "      <td>30</td>\n",
              "      <td>0.10</td>\n",
              "      <td>0.85</td>\n",
              "      <td>additive</td>\n",
              "      <td>1.00</td>\n",
              "      <td>0.84</td>\n",
              "    </tr>\n",
              "    <tr>\n",
              "      <th>9</th>\n",
              "      <td>25</td>\n",
              "      <td>0.10</td>\n",
              "      <td>0.85</td>\n",
              "      <td>multiplicative</td>\n",
              "      <td>1.00</td>\n",
              "      <td>0.84</td>\n",
              "    </tr>\n",
              "    <tr>\n",
              "      <th>31</th>\n",
              "      <td>20</td>\n",
              "      <td>0.30</td>\n",
              "      <td>0.85</td>\n",
              "      <td>multiplicative</td>\n",
              "      <td>1.00</td>\n",
              "      <td>0.84</td>\n",
              "    </tr>\n",
              "    <tr>\n",
              "      <th>12</th>\n",
              "      <td>35</td>\n",
              "      <td>0.10</td>\n",
              "      <td>0.85</td>\n",
              "      <td>additive</td>\n",
              "      <td>1.00</td>\n",
              "      <td>0.84</td>\n",
              "    </tr>\n",
              "    <tr>\n",
              "      <th>11</th>\n",
              "      <td>30</td>\n",
              "      <td>0.10</td>\n",
              "      <td>0.85</td>\n",
              "      <td>multiplicative</td>\n",
              "      <td>1.00</td>\n",
              "      <td>0.84</td>\n",
              "    </tr>\n",
              "    <tr>\n",
              "      <th>14</th>\n",
              "      <td>40</td>\n",
              "      <td>0.10</td>\n",
              "      <td>0.85</td>\n",
              "      <td>additive</td>\n",
              "      <td>1.00</td>\n",
              "      <td>0.84</td>\n",
              "    </tr>\n",
              "    <tr>\n",
              "      <th>32</th>\n",
              "      <td>25</td>\n",
              "      <td>0.30</td>\n",
              "      <td>0.85</td>\n",
              "      <td>additive</td>\n",
              "      <td>1.00</td>\n",
              "      <td>0.84</td>\n",
              "    </tr>\n",
              "    <tr>\n",
              "      <th>17</th>\n",
              "      <td>45</td>\n",
              "      <td>0.10</td>\n",
              "      <td>0.85</td>\n",
              "      <td>multiplicative</td>\n",
              "      <td>1.00</td>\n",
              "      <td>0.84</td>\n",
              "    </tr>\n",
              "    <tr>\n",
              "      <th>13</th>\n",
              "      <td>35</td>\n",
              "      <td>0.10</td>\n",
              "      <td>0.85</td>\n",
              "      <td>multiplicative</td>\n",
              "      <td>1.00</td>\n",
              "      <td>0.84</td>\n",
              "    </tr>\n",
              "    <tr>\n",
              "      <th>33</th>\n",
              "      <td>25</td>\n",
              "      <td>0.30</td>\n",
              "      <td>0.85</td>\n",
              "      <td>multiplicative</td>\n",
              "      <td>1.00</td>\n",
              "      <td>0.84</td>\n",
              "    </tr>\n",
              "    <tr>\n",
              "      <th>22</th>\n",
              "      <td>60</td>\n",
              "      <td>0.10</td>\n",
              "      <td>0.85</td>\n",
              "      <td>additive</td>\n",
              "      <td>1.00</td>\n",
              "      <td>0.84</td>\n",
              "    </tr>\n",
              "    <tr>\n",
              "      <th>15</th>\n",
              "      <td>40</td>\n",
              "      <td>0.10</td>\n",
              "      <td>0.85</td>\n",
              "      <td>multiplicative</td>\n",
              "      <td>1.00</td>\n",
              "      <td>0.84</td>\n",
              "    </tr>\n",
              "    <tr>\n",
              "      <th>20</th>\n",
              "      <td>55</td>\n",
              "      <td>0.10</td>\n",
              "      <td>0.85</td>\n",
              "      <td>additive</td>\n",
              "      <td>1.00</td>\n",
              "      <td>0.84</td>\n",
              "    </tr>\n",
              "    <tr>\n",
              "      <th>16</th>\n",
              "      <td>45</td>\n",
              "      <td>0.10</td>\n",
              "      <td>0.85</td>\n",
              "      <td>additive</td>\n",
              "      <td>1.00</td>\n",
              "      <td>0.84</td>\n",
              "    </tr>\n",
              "    <tr>\n",
              "      <th>18</th>\n",
              "      <td>50</td>\n",
              "      <td>0.10</td>\n",
              "      <td>0.85</td>\n",
              "      <td>additive</td>\n",
              "      <td>1.00</td>\n",
              "      <td>0.84</td>\n",
              "    </tr>\n",
              "    <tr>\n",
              "      <th>19</th>\n",
              "      <td>50</td>\n",
              "      <td>0.10</td>\n",
              "      <td>0.85</td>\n",
              "      <td>multiplicative</td>\n",
              "      <td>1.00</td>\n",
              "      <td>0.84</td>\n",
              "    </tr>\n",
              "    <tr>\n",
              "      <th>23</th>\n",
              "      <td>60</td>\n",
              "      <td>0.10</td>\n",
              "      <td>0.85</td>\n",
              "      <td>multiplicative</td>\n",
              "      <td>1.00</td>\n",
              "      <td>0.83</td>\n",
              "    </tr>\n",
              "    <tr>\n",
              "      <th>0</th>\n",
              "      <td>5</td>\n",
              "      <td>0.10</td>\n",
              "      <td>0.85</td>\n",
              "      <td>additive</td>\n",
              "      <td>0.99</td>\n",
              "      <td>0.83</td>\n",
              "    </tr>\n",
              "    <tr>\n",
              "      <th>1</th>\n",
              "      <td>5</td>\n",
              "      <td>0.10</td>\n",
              "      <td>0.85</td>\n",
              "      <td>multiplicative</td>\n",
              "      <td>0.99</td>\n",
              "      <td>0.83</td>\n",
              "    </tr>\n",
              "    <tr>\n",
              "      <th>21</th>\n",
              "      <td>55</td>\n",
              "      <td>0.10</td>\n",
              "      <td>0.85</td>\n",
              "      <td>multiplicative</td>\n",
              "      <td>1.00</td>\n",
              "      <td>0.83</td>\n",
              "    </tr>\n",
              "    <tr>\n",
              "      <th>25</th>\n",
              "      <td>5</td>\n",
              "      <td>0.30</td>\n",
              "      <td>0.85</td>\n",
              "      <td>multiplicative</td>\n",
              "      <td>0.99</td>\n",
              "      <td>0.82</td>\n",
              "    </tr>\n",
              "    <tr>\n",
              "      <th>24</th>\n",
              "      <td>5</td>\n",
              "      <td>0.30</td>\n",
              "      <td>0.85</td>\n",
              "      <td>additive</td>\n",
              "      <td>0.99</td>\n",
              "      <td>0.82</td>\n",
              "    </tr>\n",
              "  </tbody>\n",
              "</table>\n",
              "</div>"
            ],
            "text/plain": [
              "    n_change_points  ...  r2-score (Teste)\n",
              "2                10  ...              0.86\n",
              "26               10  ...              0.85\n",
              "3                10  ...              0.85\n",
              "27               10  ...              0.85\n",
              "4                15  ...              0.85\n",
              "6                20  ...              0.85\n",
              "28               15  ...              0.85\n",
              "5                15  ...              0.85\n",
              "7                20  ...              0.85\n",
              "29               15  ...              0.85\n",
              "8                25  ...              0.85\n",
              "30               20  ...              0.84\n",
              "10               30  ...              0.84\n",
              "9                25  ...              0.84\n",
              "31               20  ...              0.84\n",
              "12               35  ...              0.84\n",
              "11               30  ...              0.84\n",
              "14               40  ...              0.84\n",
              "32               25  ...              0.84\n",
              "17               45  ...              0.84\n",
              "13               35  ...              0.84\n",
              "33               25  ...              0.84\n",
              "22               60  ...              0.84\n",
              "15               40  ...              0.84\n",
              "20               55  ...              0.84\n",
              "16               45  ...              0.84\n",
              "18               50  ...              0.84\n",
              "19               50  ...              0.84\n",
              "23               60  ...              0.83\n",
              "0                 5  ...              0.83\n",
              "1                 5  ...              0.83\n",
              "21               55  ...              0.83\n",
              "25                5  ...              0.82\n",
              "24                5  ...              0.82\n",
              "\n",
              "[34 rows x 6 columns]"
            ]
          },
          "metadata": {
            "tags": []
          },
          "execution_count": 53
        }
      ]
    },
    {
      "cell_type": "markdown",
      "metadata": {
        "id": "zkXd2Xqn3CjF"
      },
      "source": [
        "n_change_points = 10\n",
        "\n",
        "change_points_prior_scale = 0.10\n",
        "\n",
        "change_point_range = 0.85\n",
        "\n",
        "Sazonality type = additive\n",
        "\n",
        "r2-score (Treino) = 1.00\n",
        "\n",
        "r2-score (Teste) = 0.86"
      ]
    },
    {
      "cell_type": "markdown",
      "metadata": {
        "id": "PkDUvUZa3amM"
      },
      "source": [
        "### Média móvel óbitos acumulados (28 dias)"
      ]
    },
    {
      "cell_type": "code",
      "metadata": {
        "colab": {
          "base_uri": "https://localhost:8080/"
        },
        "id": "ZxZFqHQk3amR",
        "outputId": "b1ebac11-6789-4fe1-9464-1699bfcaafd9"
      },
      "source": [
        "tabela =  prophet_melhor_modelo(dados_CE,'MM28_obitos_acumulados', min_teste= 0.8, max_teste= 0.95, fer = feriados_CE)"
      ],
      "execution_count": null,
      "outputs": [
        {
          "output_type": "stream",
          "text": [
            "WARNING:fbprophet.models:Optimization terminated abnormally. Falling back to Newton.\n"
          ],
          "name": "stderr"
        },
        {
          "output_type": "stream",
          "text": [
            "Atingiu loop máximo sem encontrar bons parâmetros\n"
          ],
          "name": "stdout"
        }
      ]
    },
    {
      "cell_type": "code",
      "metadata": {
        "colab": {
          "base_uri": "https://localhost:8080/",
          "height": 419
        },
        "id": "5BTXzwZ03amS",
        "outputId": "b485aaf3-ff71-45c7-848e-470bb7d72514"
      },
      "source": [
        "tabela"
      ],
      "execution_count": null,
      "outputs": [
        {
          "output_type": "execute_result",
          "data": {
            "text/html": [
              "<div>\n",
              "<style scoped>\n",
              "    .dataframe tbody tr th:only-of-type {\n",
              "        vertical-align: middle;\n",
              "    }\n",
              "\n",
              "    .dataframe tbody tr th {\n",
              "        vertical-align: top;\n",
              "    }\n",
              "\n",
              "    .dataframe thead th {\n",
              "        text-align: right;\n",
              "    }\n",
              "</style>\n",
              "<table border=\"1\" class=\"dataframe\">\n",
              "  <thead>\n",
              "    <tr style=\"text-align: right;\">\n",
              "      <th></th>\n",
              "      <th>n_change_points</th>\n",
              "      <th>change_points_prior_scale</th>\n",
              "      <th>change_point_range</th>\n",
              "      <th>Sazonality type</th>\n",
              "      <th>r2-score (Treino)</th>\n",
              "      <th>r2-score (Teste)</th>\n",
              "    </tr>\n",
              "  </thead>\n",
              "  <tbody>\n",
              "    <tr>\n",
              "      <th>53</th>\n",
              "      <td>25</td>\n",
              "      <td>0.30</td>\n",
              "      <td>0.90</td>\n",
              "      <td>multiplicative</td>\n",
              "      <td>1.00</td>\n",
              "      <td>0.93</td>\n",
              "    </tr>\n",
              "    <tr>\n",
              "      <th>11</th>\n",
              "      <td>25</td>\n",
              "      <td>0.10</td>\n",
              "      <td>0.90</td>\n",
              "      <td>multiplicative</td>\n",
              "      <td>1.00</td>\n",
              "      <td>0.93</td>\n",
              "    </tr>\n",
              "    <tr>\n",
              "      <th>52</th>\n",
              "      <td>25</td>\n",
              "      <td>0.30</td>\n",
              "      <td>0.90</td>\n",
              "      <td>additive</td>\n",
              "      <td>1.00</td>\n",
              "      <td>0.93</td>\n",
              "    </tr>\n",
              "    <tr>\n",
              "      <th>10</th>\n",
              "      <td>25</td>\n",
              "      <td>0.10</td>\n",
              "      <td>0.90</td>\n",
              "      <td>additive</td>\n",
              "      <td>1.00</td>\n",
              "      <td>0.93</td>\n",
              "    </tr>\n",
              "    <tr>\n",
              "      <th>15</th>\n",
              "      <td>30</td>\n",
              "      <td>0.10</td>\n",
              "      <td>0.90</td>\n",
              "      <td>multiplicative</td>\n",
              "      <td>1.00</td>\n",
              "      <td>0.92</td>\n",
              "    </tr>\n",
              "    <tr>\n",
              "      <th>...</th>\n",
              "      <td>...</td>\n",
              "      <td>...</td>\n",
              "      <td>...</td>\n",
              "      <td>...</td>\n",
              "      <td>...</td>\n",
              "      <td>...</td>\n",
              "    </tr>\n",
              "    <tr>\n",
              "      <th>8</th>\n",
              "      <td>25</td>\n",
              "      <td>0.10</td>\n",
              "      <td>0.85</td>\n",
              "      <td>additive</td>\n",
              "      <td>1.00</td>\n",
              "      <td>0.82</td>\n",
              "    </tr>\n",
              "    <tr>\n",
              "      <th>5</th>\n",
              "      <td>20</td>\n",
              "      <td>0.10</td>\n",
              "      <td>0.85</td>\n",
              "      <td>multiplicative</td>\n",
              "      <td>1.00</td>\n",
              "      <td>0.81</td>\n",
              "    </tr>\n",
              "    <tr>\n",
              "      <th>4</th>\n",
              "      <td>20</td>\n",
              "      <td>0.10</td>\n",
              "      <td>0.85</td>\n",
              "      <td>additive</td>\n",
              "      <td>1.00</td>\n",
              "      <td>0.81</td>\n",
              "    </tr>\n",
              "    <tr>\n",
              "      <th>43</th>\n",
              "      <td>15</td>\n",
              "      <td>0.30</td>\n",
              "      <td>0.85</td>\n",
              "      <td>multiplicative</td>\n",
              "      <td>1.00</td>\n",
              "      <td>0.81</td>\n",
              "    </tr>\n",
              "    <tr>\n",
              "      <th>42</th>\n",
              "      <td>15</td>\n",
              "      <td>0.30</td>\n",
              "      <td>0.85</td>\n",
              "      <td>additive</td>\n",
              "      <td>1.00</td>\n",
              "      <td>0.80</td>\n",
              "    </tr>\n",
              "  </tbody>\n",
              "</table>\n",
              "<p>70 rows × 6 columns</p>\n",
              "</div>"
            ],
            "text/plain": [
              "    n_change_points  ...  r2-score (Teste)\n",
              "53               25  ...              0.93\n",
              "11               25  ...              0.93\n",
              "52               25  ...              0.93\n",
              "10               25  ...              0.93\n",
              "15               30  ...              0.92\n",
              "..              ...  ...               ...\n",
              "8                25  ...              0.82\n",
              "5                20  ...              0.81\n",
              "4                20  ...              0.81\n",
              "43               15  ...              0.81\n",
              "42               15  ...              0.80\n",
              "\n",
              "[70 rows x 6 columns]"
            ]
          },
          "metadata": {
            "tags": []
          },
          "execution_count": 57
        }
      ]
    },
    {
      "cell_type": "markdown",
      "metadata": {
        "id": "ZmuruwTF3amT"
      },
      "source": [
        "n_change_points = 25\n",
        "\n",
        "change_points_prior_scale = 0.3\n",
        "\n",
        "change_point_range = 0.90\n",
        "\n",
        "Sazonality type = multipicativo\n",
        "\n",
        "r2-score (Treino) = 1.00\n",
        "\n",
        "r2-score (Teste) = 0.93"
      ]
    },
    {
      "cell_type": "markdown",
      "metadata": {
        "id": "2b7gEKDoXfFr"
      },
      "source": [
        "## Semana epidemiológica"
      ]
    },
    {
      "cell_type": "markdown",
      "metadata": {
        "id": "SS5q_7YyXj1I"
      },
      "source": [
        "### Casos acumulados"
      ]
    },
    {
      "cell_type": "code",
      "metadata": {
        "colab": {
          "base_uri": "https://localhost:8080/"
        },
        "id": "SO6L6BR1XfGI",
        "outputId": "f7d29ae6-79a0-4ec6-d6de-66900c287a80"
      },
      "source": [
        "tabela =  prophet_melhor_modelo(dados_sem_CE,'Ultimos_confirmados', v_tempo= 'Semana_epi', l_treino= 60,\n",
        "                                min_teste= 0.5, max_teste= 0.6, fer = feriados_CE)"
      ],
      "execution_count": null,
      "outputs": [
        {
          "output_type": "stream",
          "text": [
            "Atingiu loop máximo sem encontrar os parâmetros requeridos\n"
          ],
          "name": "stdout"
        }
      ]
    },
    {
      "cell_type": "code",
      "metadata": {
        "colab": {
          "base_uri": "https://localhost:8080/",
          "height": 49
        },
        "id": "nfSLA7wxXfGM",
        "outputId": "1a22b454-f864-4339-e274-42dc94b820d6"
      },
      "source": [
        "tabela"
      ],
      "execution_count": null,
      "outputs": [
        {
          "output_type": "execute_result",
          "data": {
            "text/html": [
              "<div>\n",
              "<style scoped>\n",
              "    .dataframe tbody tr th:only-of-type {\n",
              "        vertical-align: middle;\n",
              "    }\n",
              "\n",
              "    .dataframe tbody tr th {\n",
              "        vertical-align: top;\n",
              "    }\n",
              "\n",
              "    .dataframe thead th {\n",
              "        text-align: right;\n",
              "    }\n",
              "</style>\n",
              "<table border=\"1\" class=\"dataframe\">\n",
              "  <thead>\n",
              "    <tr style=\"text-align: right;\">\n",
              "      <th></th>\n",
              "      <th>n_change_points</th>\n",
              "      <th>change_points_prior_scale</th>\n",
              "      <th>change_point_range</th>\n",
              "      <th>Sazonality type</th>\n",
              "      <th>r2-score (Treino)</th>\n",
              "      <th>r2-score (Teste)</th>\n",
              "    </tr>\n",
              "  </thead>\n",
              "  <tbody>\n",
              "  </tbody>\n",
              "</table>\n",
              "</div>"
            ],
            "text/plain": [
              "Empty DataFrame\n",
              "Columns: [n_change_points, change_points_prior_scale, change_point_range, Sazonality type, r2-score (Treino), r2-score (Teste)]\n",
              "Index: []"
            ]
          },
          "metadata": {
            "tags": []
          },
          "execution_count": 45
        }
      ]
    },
    {
      "cell_type": "markdown",
      "metadata": {
        "id": "BnpRmZSc7wSg"
      },
      "source": [
        "### Casos novos"
      ]
    },
    {
      "cell_type": "code",
      "metadata": {
        "colab": {
          "base_uri": "https://localhost:8080/"
        },
        "id": "Ctrssg2Q7wSh",
        "outputId": "a4c813ed-43d4-48b2-91f0-ef84be402798"
      },
      "source": [
        "tabela =  prophet_melhor_modelo(dados_sem_CE,'Novos_casos', v_tempo= 'Semana_epi', l_treino= 60,\n",
        "                                min_teste= 0.5, max_teste= 0.6, fer = feriados_CE)"
      ],
      "execution_count": null,
      "outputs": [
        {
          "output_type": "stream",
          "text": [
            "Atingiu loop máximo sem encontrar os parâmetros requeridos\n"
          ],
          "name": "stdout"
        }
      ]
    },
    {
      "cell_type": "code",
      "metadata": {
        "colab": {
          "base_uri": "https://localhost:8080/",
          "height": 49
        },
        "id": "b41gPJbz7wSk",
        "outputId": "968cef6e-6685-4de8-f1a3-d5fbb54d1493"
      },
      "source": [
        "tabela"
      ],
      "execution_count": null,
      "outputs": [
        {
          "output_type": "execute_result",
          "data": {
            "text/html": [
              "<div>\n",
              "<style scoped>\n",
              "    .dataframe tbody tr th:only-of-type {\n",
              "        vertical-align: middle;\n",
              "    }\n",
              "\n",
              "    .dataframe tbody tr th {\n",
              "        vertical-align: top;\n",
              "    }\n",
              "\n",
              "    .dataframe thead th {\n",
              "        text-align: right;\n",
              "    }\n",
              "</style>\n",
              "<table border=\"1\" class=\"dataframe\">\n",
              "  <thead>\n",
              "    <tr style=\"text-align: right;\">\n",
              "      <th></th>\n",
              "      <th>n_change_points</th>\n",
              "      <th>change_points_prior_scale</th>\n",
              "      <th>change_point_range</th>\n",
              "      <th>Sazonality type</th>\n",
              "      <th>r2-score (Treino)</th>\n",
              "      <th>r2-score (Teste)</th>\n",
              "    </tr>\n",
              "  </thead>\n",
              "  <tbody>\n",
              "  </tbody>\n",
              "</table>\n",
              "</div>"
            ],
            "text/plain": [
              "Empty DataFrame\n",
              "Columns: [n_change_points, change_points_prior_scale, change_point_range, Sazonality type, r2-score (Treino), r2-score (Teste)]\n",
              "Index: []"
            ]
          },
          "metadata": {
            "tags": []
          },
          "execution_count": 32
        }
      ]
    },
    {
      "cell_type": "markdown",
      "metadata": {
        "id": "qUzkfNny75sz"
      },
      "source": [
        "### Óbitos acumulados"
      ]
    },
    {
      "cell_type": "code",
      "metadata": {
        "colab": {
          "base_uri": "https://localhost:8080/"
        },
        "id": "h70JO0Qs75s0",
        "outputId": "ad469ba0-3056-4aae-e07f-fce2acb5f4fc"
      },
      "source": [
        "tabela =  prophet_melhor_modelo(dados_sem_CE,'Ultimas_mortes', v_tempo= 'Semana_epi', l_treino= 60,\n",
        "                                min_teste= 0.5, max_teste= 0.6, fer = feriados_CE)"
      ],
      "execution_count": null,
      "outputs": [
        {
          "output_type": "stream",
          "text": [
            "Atingiu loop máximo sem encontrar os parâmetros requeridos\n"
          ],
          "name": "stdout"
        }
      ]
    },
    {
      "cell_type": "code",
      "metadata": {
        "colab": {
          "base_uri": "https://localhost:8080/",
          "height": 49
        },
        "id": "x1VGxBdD75s1",
        "outputId": "0622ce8d-61cb-47f5-ed9b-07cfe637d20b"
      },
      "source": [
        "tabela"
      ],
      "execution_count": null,
      "outputs": [
        {
          "output_type": "execute_result",
          "data": {
            "text/html": [
              "<div>\n",
              "<style scoped>\n",
              "    .dataframe tbody tr th:only-of-type {\n",
              "        vertical-align: middle;\n",
              "    }\n",
              "\n",
              "    .dataframe tbody tr th {\n",
              "        vertical-align: top;\n",
              "    }\n",
              "\n",
              "    .dataframe thead th {\n",
              "        text-align: right;\n",
              "    }\n",
              "</style>\n",
              "<table border=\"1\" class=\"dataframe\">\n",
              "  <thead>\n",
              "    <tr style=\"text-align: right;\">\n",
              "      <th></th>\n",
              "      <th>n_change_points</th>\n",
              "      <th>change_points_prior_scale</th>\n",
              "      <th>change_point_range</th>\n",
              "      <th>Sazonality type</th>\n",
              "      <th>r2-score (Treino)</th>\n",
              "      <th>r2-score (Teste)</th>\n",
              "    </tr>\n",
              "  </thead>\n",
              "  <tbody>\n",
              "  </tbody>\n",
              "</table>\n",
              "</div>"
            ],
            "text/plain": [
              "Empty DataFrame\n",
              "Columns: [n_change_points, change_points_prior_scale, change_point_range, Sazonality type, r2-score (Treino), r2-score (Teste)]\n",
              "Index: []"
            ]
          },
          "metadata": {
            "tags": []
          },
          "execution_count": 34
        }
      ]
    },
    {
      "cell_type": "markdown",
      "metadata": {
        "id": "B6qzPeYu7_9Z"
      },
      "source": [
        "### Óbitos novos"
      ]
    },
    {
      "cell_type": "code",
      "metadata": {
        "colab": {
          "base_uri": "https://localhost:8080/"
        },
        "id": "qt0qVu967_9a",
        "outputId": "402776e7-5ea1-497e-b8e3-5f90783f684c"
      },
      "source": [
        "tabela =  prophet_melhor_modelo(dados_sem_CE,'Novas_mortes', v_tempo= 'Semana_epi', l_treino= 60,\n",
        "                                min_teste= 0.5, max_teste= 0.6, fer = feriados_CE)"
      ],
      "execution_count": null,
      "outputs": [
        {
          "output_type": "stream",
          "text": [
            "Atingiu loop máximo sem encontrar os parâmetros requeridos\n"
          ],
          "name": "stdout"
        }
      ]
    },
    {
      "cell_type": "code",
      "metadata": {
        "colab": {
          "base_uri": "https://localhost:8080/",
          "height": 49
        },
        "id": "r211Kxsp7_9b",
        "outputId": "61aca608-8553-4591-f4e9-da3aa982f203"
      },
      "source": [
        "tabela"
      ],
      "execution_count": null,
      "outputs": [
        {
          "output_type": "execute_result",
          "data": {
            "text/html": [
              "<div>\n",
              "<style scoped>\n",
              "    .dataframe tbody tr th:only-of-type {\n",
              "        vertical-align: middle;\n",
              "    }\n",
              "\n",
              "    .dataframe tbody tr th {\n",
              "        vertical-align: top;\n",
              "    }\n",
              "\n",
              "    .dataframe thead th {\n",
              "        text-align: right;\n",
              "    }\n",
              "</style>\n",
              "<table border=\"1\" class=\"dataframe\">\n",
              "  <thead>\n",
              "    <tr style=\"text-align: right;\">\n",
              "      <th></th>\n",
              "      <th>n_change_points</th>\n",
              "      <th>change_points_prior_scale</th>\n",
              "      <th>change_point_range</th>\n",
              "      <th>Sazonality type</th>\n",
              "      <th>r2-score (Treino)</th>\n",
              "      <th>r2-score (Teste)</th>\n",
              "    </tr>\n",
              "  </thead>\n",
              "  <tbody>\n",
              "  </tbody>\n",
              "</table>\n",
              "</div>"
            ],
            "text/plain": [
              "Empty DataFrame\n",
              "Columns: [n_change_points, change_points_prior_scale, change_point_range, Sazonality type, r2-score (Treino), r2-score (Teste)]\n",
              "Index: []"
            ]
          },
          "metadata": {
            "tags": []
          },
          "execution_count": 36
        }
      ]
    }
  ]
}